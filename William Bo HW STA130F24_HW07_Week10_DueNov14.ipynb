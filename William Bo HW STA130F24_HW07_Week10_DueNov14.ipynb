{
 "cells": [
  {
   "cell_type": "markdown",
   "id": "acbdca1b",
   "metadata": {},
   "source": [
    "William Bo \n",
    "\n",
    "STA130 \n",
    "\n",
    "HW 07"
   ]
  },
  {
   "cell_type": "markdown",
   "id": "d6353723",
   "metadata": {},
   "source": [
    "**QUESTION 1)**\n",
    "\n",
    "1.1) Simple linear regression is the relationship between a singular predictor variable, and the response modeled by fitting a straight line. Multiple linear regression uses two or more predicters in order to capture a more complex model through considering multiple factors. The benefit of multiple linear regression is that it provides a more complex explaination by considering multiple variables, this could potentially improve predictions. \n",
    "\n",
    "1.2) A continuous variable in Simple Linear Regression is a numerical variable which allows for our model to fit a continuous smooth line across a range of values. An indicator variable is a binary variable which represents categorical information in numerical ways. With a coninuous variable, a model predicts the response across multiple values. With an indicator, the model splits the prediction into two levels (ie males and females), resulting in a stepwise like effect. \n",
    "\n",
    "1.3) When a continuous and an indicator variable are combined in Multiple Linear Regression, the model differentiates predictions based on the indicator while adjusting the predictions within each group based on the continuous variable. The model can now adapt to different groups, modeling variations in the responses within each of the groups, and reflecting data that may have differing trends or intercepts across categories. \n",
    "\n",
    "1.4) An interaction between continous and indicator variable allows the model to fit separate slopes for each level of the indicator variables. The interaction creates a model where the relationship between the continuous predictor and the response is differing by indicator variable, which enables the model to capture trends from specific groups. \n",
    "\n",
    "1.5) When using only indicator variables from non-binary categorical variables, the model distinguishes between multiple groups by separating using binary indicators for each category. The resulting model represents the response as a set of distinct levels based on categories, capturing group-specific intercepts. The group contributes one indicator variable, giving it a segmented view of the data across the categorical groups. "
   ]
  },
  {
   "cell_type": "markdown",
   "id": "ea3a443c",
   "metadata": {},
   "source": [
    "**QUESTION 2**\n",
    "\n",
    "2.1)\n",
    "\n",
    "Additive Model:\n",
    "To make predictions using the additive model, plug in the values for the TV and Online ad budgets:\n",
    "Sales = beta_0 + beta_TV * TV + beta_Online * Online\n",
    "In this model, each budget affects sales independently, so the impact of TV ads on sales is the same no matter how much is spent on online ads, and vice versa.\n",
    "Interaction Model:\n",
    "For the interaction model, include an extra term for the interaction between TV and Online budgets:\n",
    "Sales = beta_0 + beta_TV * TV + beta_Online * Online + beta_TV-Online * (TV * Online)\n",
    "The interaction term (TV * Online) allows us to model cases where the effect of one budget depends on the level of the other. This can show that high spending in both might boost sales more than just adding each effect alone.\n",
    "\n",
    "\n",
    "2.2) \n",
    "\n",
    "Additive Model with Binary Variables:\n",
    "If we consider ad budgets as binary (where TV = 1 for high and TV = 0 for low, and similarly for Online), the formula is:\n",
    "Sales = beta_0 + beta_TV * TV + beta_Online * Online\n",
    "Here, each budget level’s effect is independent of the other, meaning each contributes to sales without interacting.\n",
    "Interaction Model with Binary Variables:\n",
    "Adding an interaction term with binary variables, the formula becomes:\n",
    "Sales = beta_0 + beta_TV * TV + beta_Online * Online + beta_TV-Online * (TV * Online)\n",
    "In this model, the interaction term (TV * Online) applies only when both budgets are high. This captures a scenario where the combined effect of both high budgets is greater than just adding up their separate effects.\n"
   ]
  },
  {
   "cell_type": "code",
   "execution_count": 3,
   "id": "b249d1ea",
   "metadata": {},
   "outputs": [
    {
     "name": "stdout",
     "output_type": "stream",
     "text": [
      "Optimization terminated successfully.\n",
      "         Current function value: 0.232289\n",
      "         Iterations 7\n",
      "                           Logit Regression Results                           \n",
      "==============================================================================\n",
      "Dep. Variable:               str8fyre   No. Observations:                  800\n",
      "Model:                          Logit   Df Residuals:                      792\n",
      "Method:                           MLE   Df Model:                            7\n",
      "Date:                Thu, 14 Nov 2024   Pseudo R-squ.:                 0.03418\n",
      "Time:                        23:31:49   Log-Likelihood:                -185.83\n",
      "converged:                       True   LL-Null:                       -192.41\n",
      "Covariance Type:            nonrobust   LLR p-value:                   0.06850\n",
      "======================================================================================\n",
      "                         coef    std err          z      P>|z|      [0.025      0.975]\n",
      "--------------------------------------------------------------------------------------\n",
      "Intercept             -2.3765      0.498     -4.768      0.000      -3.353      -1.400\n",
      "C(Generation)[T.2]    -0.0415      0.465     -0.089      0.929      -0.953       0.870\n",
      "C(Generation)[T.3]    -0.6287      0.464     -1.356      0.175      -1.538       0.280\n",
      "C(Generation)[T.4]    -0.7670      0.539     -1.422      0.155      -1.824       0.290\n",
      "C(Generation)[T.5]    -0.5151      0.445     -1.157      0.247      -1.388       0.357\n",
      "C(Generation)[T.6]     0.2525      0.470      0.537      0.591      -0.669       1.174\n",
      "Attack                 0.0126      0.005      2.595      0.009       0.003       0.022\n",
      "Defense               -0.0147      0.006     -2.331      0.020      -0.027      -0.002\n",
      "======================================================================================\n",
      "Optimization terminated successfully.\n",
      "         Current function value: 0.230915\n",
      "         Iterations 7\n",
      "                           Logit Regression Results                           \n",
      "==============================================================================\n",
      "Dep. Variable:               str8fyre   No. Observations:                  800\n",
      "Model:                          Logit   Df Residuals:                      791\n",
      "Method:                           MLE   Df Model:                            8\n",
      "Date:                Thu, 14 Nov 2024   Pseudo R-squ.:                 0.03989\n",
      "Time:                        23:31:49   Log-Likelihood:                -184.73\n",
      "converged:                       True   LL-Null:                       -192.41\n",
      "Covariance Type:            nonrobust   LLR p-value:                   0.05268\n",
      "======================================================================================\n",
      "                         coef    std err          z      P>|z|      [0.025      0.975]\n",
      "--------------------------------------------------------------------------------------\n",
      "Intercept             -3.5596      0.935     -3.806      0.000      -5.393      -1.726\n",
      "C(Generation)[T.2]     0.0019      0.466      0.004      0.997      -0.912       0.916\n",
      "C(Generation)[T.3]    -0.6530      0.469     -1.393      0.164      -1.571       0.266\n",
      "C(Generation)[T.4]    -0.7794      0.540     -1.443      0.149      -1.838       0.279\n",
      "C(Generation)[T.5]    -0.5368      0.446     -1.205      0.228      -1.410       0.337\n",
      "C(Generation)[T.6]     0.2346      0.471      0.498      0.618      -0.688       1.158\n",
      "Attack                 0.0272      0.011      2.469      0.014       0.006       0.049\n",
      "Defense                0.0042      0.013      0.310      0.756      -0.022       0.030\n",
      "Attack:Defense        -0.0002      0.000     -1.487      0.137      -0.001    6.93e-05\n",
      "======================================================================================\n"
     ]
    }
   ],
   "source": [
    "# QUESTION 3\n",
    "\n",
    "\n",
    "import pandas as pd\n",
    "import statsmodels.formula.api as smf\n",
    "\n",
    "# Load the dataset\n",
    "url = \"https://raw.githubusercontent.com/KeithGalli/pandas/master/pokemon_data.csv\"\n",
    "pokemon = pd.read_csv(url).fillna('None')\n",
    "\n",
    "# Create a binary outcome variable (e.g., 'str8fyre' for whether Type 1 is Fire)\n",
    "pokemon['str8fyre'] = (pokemon['Type 1'] == 'Fire').astype(int)\n",
    "\n",
    "\n",
    "# Define an additive model with continuous, binary, and categorical variables\n",
    "formula_additive = 'str8fyre ~ Attack + Defense + C(Generation)'\n",
    "\n",
    "# Fit logistic regression using statsmodels\n",
    "log_reg_additive = smf.logit(formula_additive, data=pokemon).fit()\n",
    "\n",
    "# Display the model summary\n",
    "print(log_reg_additive.summary())\n",
    "\n",
    "\n",
    "# Define a model with interaction terms for synergy\n",
    "formula_synergistic = 'str8fyre ~ Attack*Defense + C(Generation)'\n",
    "\n",
    "# Fit logistic regression with interactions\n",
    "log_reg_synergistic = smf.logit(formula_synergistic, data=pokemon).fit()\n",
    "\n",
    "# Display the model summary\n",
    "print(log_reg_synergistic.summary())\n"
   ]
  },
  {
   "cell_type": "markdown",
   "id": "686d9f59",
   "metadata": {},
   "source": [
    "**QUESTION 3 CONT.** \n",
    "\n",
    "3.3) \n",
    "\n",
    "Additive Model: \n",
    "the attack and defence coefficients indicate that the change in the log odds of being a \"fire\"-type pokemon are a one-unit increase in these variables \n",
    "The categorical levels adjust the baseline log odds for different generations \n",
    "\n",
    "Synergistic model: \n",
    "the attack * defense interaction captures how the joint effect of attack and defence on the log odds deviates from their individual additive effects \n",
    "The generation is retained as an adjuster for systematic differences across generations. \n",
    "\n",
    "For logistic regression, exponentiating the coefficient give the odds ratio for predictors. treating log odds as linear makes it easier to interpret the additive relationships. "
   ]
  },
  {
   "cell_type": "markdown",
   "id": "bdcfdeab",
   "metadata": {},
   "source": [
    "3.4) by using the .summary() output: \n",
    "\n",
    "the P-values evaluate the null hypothesis that the predictor's coefficient is zero. \n",
    "The significant predictors are variables with p-values < 0.05 provide statistically significant evidence for their contribution to the model. \n",
    "if the interaction term's p-value is low, it suggests a significant synergistic effect. "
   ]
  },
  {
   "cell_type": "code",
   "execution_count": 5,
   "id": "0af7178f",
   "metadata": {},
   "outputs": [
    {
     "data": {
      "application/vnd.plotly.v1+json": {
       "config": {
        "plotlyServerURL": "https://plot.ly"
       },
       "data": [
        {
         "hovertemplate": "x=%{x}<br>y=%{y}<extra></extra>",
         "legendgroup": "",
         "marker": {
          "color": "#636efa",
          "symbol": "circle"
         },
         "mode": "markers+lines",
         "name": "",
         "orientation": "v",
         "showlegend": false,
         "type": "scatter",
         "x": [
          50,
          51.01010101010101,
          52.02020202020202,
          53.03030303030303,
          54.04040404040404,
          55.05050505050505,
          56.06060606060606,
          57.07070707070707,
          58.08080808080808,
          59.09090909090909,
          60.101010101010104,
          61.111111111111114,
          62.121212121212125,
          63.131313131313135,
          64.14141414141415,
          65.15151515151516,
          66.16161616161617,
          67.17171717171718,
          68.18181818181819,
          69.1919191919192,
          70.20202020202021,
          71.21212121212122,
          72.22222222222223,
          73.23232323232324,
          74.24242424242425,
          75.25252525252526,
          76.26262626262627,
          77.27272727272728,
          78.28282828282829,
          79.2929292929293,
          80.30303030303031,
          81.31313131313132,
          82.32323232323233,
          83.33333333333334,
          84.34343434343435,
          85.35353535353536,
          86.36363636363637,
          87.37373737373738,
          88.3838383838384,
          89.3939393939394,
          90.40404040404042,
          91.41414141414143,
          92.42424242424244,
          93.43434343434345,
          94.44444444444446,
          95.45454545454547,
          96.46464646464648,
          97.47474747474749,
          98.48484848484848,
          99.4949494949495,
          100.5050505050505,
          101.51515151515152,
          102.52525252525253,
          103.53535353535354,
          104.54545454545455,
          105.55555555555556,
          106.56565656565657,
          107.57575757575758,
          108.58585858585859,
          109.5959595959596,
          110.60606060606061,
          111.61616161616162,
          112.62626262626263,
          113.63636363636364,
          114.64646464646465,
          115.65656565656566,
          116.66666666666667,
          117.67676767676768,
          118.68686868686869,
          119.6969696969697,
          120.70707070707071,
          121.71717171717172,
          122.72727272727273,
          123.73737373737374,
          124.74747474747475,
          125.75757575757576,
          126.76767676767678,
          127.77777777777779,
          128.7878787878788,
          129.7979797979798,
          130.80808080808083,
          131.8181818181818,
          132.82828282828285,
          133.83838383838383,
          134.84848484848487,
          135.85858585858585,
          136.8686868686869,
          137.87878787878788,
          138.8888888888889,
          139.8989898989899,
          140.90909090909093,
          141.91919191919192,
          142.92929292929296,
          143.93939393939394,
          144.94949494949498,
          145.95959595959596,
          146.96969696969697,
          147.97979797979798,
          148.989898989899,
          150
         ],
         "xaxis": "x",
         "y": [
          0.03487680089399765,
          0.07855408503847176,
          0.07045011988717308,
          0.05996734024769649,
          0.0995864330019788,
          0.07599896037857092,
          0.03376888864868811,
          0.033088640082201255,
          0.07801047682448124,
          0.0705005426968597,
          0.03915572075470632,
          0.03908963530750749,
          0.07302469564785921,
          0.09381406729022475,
          0.09481782360402663,
          0.10186550848120235,
          0.04180301000155309,
          0.04405146294581897,
          0.052165413394186545,
          0.05014646218150557,
          0.06077918947662142,
          0.07647395096179582,
          0.040496524520539444,
          0.049834824570366136,
          0.0439633469758188,
          0.03502074750423193,
          0.10782059093675711,
          0.06963840040687004,
          0.0384993219895907,
          0.04200409364661501,
          0.07908351367635662,
          0.026994794629608434,
          0.09170384312745837,
          0.04065414501593639,
          0.0816522788851675,
          0.04728730442589289,
          0.08833901663780298,
          0.0936450812467695,
          0.047716526627468815,
          0.06971074762903862,
          0.039621349803503146,
          0.0670365195434662,
          0.09120848765288785,
          0.07123527637796498,
          0.0834112405829502,
          0.09828385781952106,
          0.04157055993339938,
          0.03734524444709855,
          0.0671324238528345,
          0.04347887041295606,
          0.06704955420771644,
          0.03564695784264919,
          0.07656499407372931,
          0.0809903739651036,
          0.036957320284266196,
          0.02932076218124574,
          0.04297428592257535,
          0.072124365859129,
          0.06594228275760901,
          0.028899690127867198,
          0.040521827095539205,
          0.03879875672708806,
          0.10017456996336131,
          0.10118083881956551,
          0.07716040122058725,
          0.07151832274417394,
          0.08661129233300768,
          0.07474811057907024,
          0.039494341607797676,
          0.040736776536502296,
          0.0810744949744998,
          0.029766005432035284,
          0.03715126388773832,
          0.05190292674489812,
          0.059211410290114806,
          0.07543696227154202,
          0.06582782909616,
          0.033407665259249715,
          0.06552784093478865,
          0.05370602489811334,
          0.032832655508352515,
          0.03849728918432716,
          0.0293576400319908,
          0.034047919993205535,
          0.04044662151002811,
          0.07011396007016478,
          0.05757483147433315,
          0.02993730971977143,
          0.03375967877201968,
          0.07656063341407157,
          0.03921983074625313,
          0.07168019900243029,
          0.043718514291715416,
          0.08511535185456905,
          0.037374523783930684,
          0.03799513288003738,
          0.061496262101909206,
          0.037783970202273705,
          0.0390970450714882,
          0.06576833013885686
         ],
         "yaxis": "y"
        }
       ],
       "layout": {
        "legend": {
         "tracegroupgap": 0
        },
        "template": {
         "data": {
          "bar": [
           {
            "error_x": {
             "color": "#2a3f5f"
            },
            "error_y": {
             "color": "#2a3f5f"
            },
            "marker": {
             "line": {
              "color": "#E5ECF6",
              "width": 0.5
             },
             "pattern": {
              "fillmode": "overlay",
              "size": 10,
              "solidity": 0.2
             }
            },
            "type": "bar"
           }
          ],
          "barpolar": [
           {
            "marker": {
             "line": {
              "color": "#E5ECF6",
              "width": 0.5
             },
             "pattern": {
              "fillmode": "overlay",
              "size": 10,
              "solidity": 0.2
             }
            },
            "type": "barpolar"
           }
          ],
          "carpet": [
           {
            "aaxis": {
             "endlinecolor": "#2a3f5f",
             "gridcolor": "white",
             "linecolor": "white",
             "minorgridcolor": "white",
             "startlinecolor": "#2a3f5f"
            },
            "baxis": {
             "endlinecolor": "#2a3f5f",
             "gridcolor": "white",
             "linecolor": "white",
             "minorgridcolor": "white",
             "startlinecolor": "#2a3f5f"
            },
            "type": "carpet"
           }
          ],
          "choropleth": [
           {
            "colorbar": {
             "outlinewidth": 0,
             "ticks": ""
            },
            "type": "choropleth"
           }
          ],
          "contour": [
           {
            "colorbar": {
             "outlinewidth": 0,
             "ticks": ""
            },
            "colorscale": [
             [
              0,
              "#0d0887"
             ],
             [
              0.1111111111111111,
              "#46039f"
             ],
             [
              0.2222222222222222,
              "#7201a8"
             ],
             [
              0.3333333333333333,
              "#9c179e"
             ],
             [
              0.4444444444444444,
              "#bd3786"
             ],
             [
              0.5555555555555556,
              "#d8576b"
             ],
             [
              0.6666666666666666,
              "#ed7953"
             ],
             [
              0.7777777777777778,
              "#fb9f3a"
             ],
             [
              0.8888888888888888,
              "#fdca26"
             ],
             [
              1,
              "#f0f921"
             ]
            ],
            "type": "contour"
           }
          ],
          "contourcarpet": [
           {
            "colorbar": {
             "outlinewidth": 0,
             "ticks": ""
            },
            "type": "contourcarpet"
           }
          ],
          "heatmap": [
           {
            "colorbar": {
             "outlinewidth": 0,
             "ticks": ""
            },
            "colorscale": [
             [
              0,
              "#0d0887"
             ],
             [
              0.1111111111111111,
              "#46039f"
             ],
             [
              0.2222222222222222,
              "#7201a8"
             ],
             [
              0.3333333333333333,
              "#9c179e"
             ],
             [
              0.4444444444444444,
              "#bd3786"
             ],
             [
              0.5555555555555556,
              "#d8576b"
             ],
             [
              0.6666666666666666,
              "#ed7953"
             ],
             [
              0.7777777777777778,
              "#fb9f3a"
             ],
             [
              0.8888888888888888,
              "#fdca26"
             ],
             [
              1,
              "#f0f921"
             ]
            ],
            "type": "heatmap"
           }
          ],
          "heatmapgl": [
           {
            "colorbar": {
             "outlinewidth": 0,
             "ticks": ""
            },
            "colorscale": [
             [
              0,
              "#0d0887"
             ],
             [
              0.1111111111111111,
              "#46039f"
             ],
             [
              0.2222222222222222,
              "#7201a8"
             ],
             [
              0.3333333333333333,
              "#9c179e"
             ],
             [
              0.4444444444444444,
              "#bd3786"
             ],
             [
              0.5555555555555556,
              "#d8576b"
             ],
             [
              0.6666666666666666,
              "#ed7953"
             ],
             [
              0.7777777777777778,
              "#fb9f3a"
             ],
             [
              0.8888888888888888,
              "#fdca26"
             ],
             [
              1,
              "#f0f921"
             ]
            ],
            "type": "heatmapgl"
           }
          ],
          "histogram": [
           {
            "marker": {
             "pattern": {
              "fillmode": "overlay",
              "size": 10,
              "solidity": 0.2
             }
            },
            "type": "histogram"
           }
          ],
          "histogram2d": [
           {
            "colorbar": {
             "outlinewidth": 0,
             "ticks": ""
            },
            "colorscale": [
             [
              0,
              "#0d0887"
             ],
             [
              0.1111111111111111,
              "#46039f"
             ],
             [
              0.2222222222222222,
              "#7201a8"
             ],
             [
              0.3333333333333333,
              "#9c179e"
             ],
             [
              0.4444444444444444,
              "#bd3786"
             ],
             [
              0.5555555555555556,
              "#d8576b"
             ],
             [
              0.6666666666666666,
              "#ed7953"
             ],
             [
              0.7777777777777778,
              "#fb9f3a"
             ],
             [
              0.8888888888888888,
              "#fdca26"
             ],
             [
              1,
              "#f0f921"
             ]
            ],
            "type": "histogram2d"
           }
          ],
          "histogram2dcontour": [
           {
            "colorbar": {
             "outlinewidth": 0,
             "ticks": ""
            },
            "colorscale": [
             [
              0,
              "#0d0887"
             ],
             [
              0.1111111111111111,
              "#46039f"
             ],
             [
              0.2222222222222222,
              "#7201a8"
             ],
             [
              0.3333333333333333,
              "#9c179e"
             ],
             [
              0.4444444444444444,
              "#bd3786"
             ],
             [
              0.5555555555555556,
              "#d8576b"
             ],
             [
              0.6666666666666666,
              "#ed7953"
             ],
             [
              0.7777777777777778,
              "#fb9f3a"
             ],
             [
              0.8888888888888888,
              "#fdca26"
             ],
             [
              1,
              "#f0f921"
             ]
            ],
            "type": "histogram2dcontour"
           }
          ],
          "mesh3d": [
           {
            "colorbar": {
             "outlinewidth": 0,
             "ticks": ""
            },
            "type": "mesh3d"
           }
          ],
          "parcoords": [
           {
            "line": {
             "colorbar": {
              "outlinewidth": 0,
              "ticks": ""
             }
            },
            "type": "parcoords"
           }
          ],
          "pie": [
           {
            "automargin": true,
            "type": "pie"
           }
          ],
          "scatter": [
           {
            "fillpattern": {
             "fillmode": "overlay",
             "size": 10,
             "solidity": 0.2
            },
            "type": "scatter"
           }
          ],
          "scatter3d": [
           {
            "line": {
             "colorbar": {
              "outlinewidth": 0,
              "ticks": ""
             }
            },
            "marker": {
             "colorbar": {
              "outlinewidth": 0,
              "ticks": ""
             }
            },
            "type": "scatter3d"
           }
          ],
          "scattercarpet": [
           {
            "marker": {
             "colorbar": {
              "outlinewidth": 0,
              "ticks": ""
             }
            },
            "type": "scattercarpet"
           }
          ],
          "scattergeo": [
           {
            "marker": {
             "colorbar": {
              "outlinewidth": 0,
              "ticks": ""
             }
            },
            "type": "scattergeo"
           }
          ],
          "scattergl": [
           {
            "marker": {
             "colorbar": {
              "outlinewidth": 0,
              "ticks": ""
             }
            },
            "type": "scattergl"
           }
          ],
          "scattermapbox": [
           {
            "marker": {
             "colorbar": {
              "outlinewidth": 0,
              "ticks": ""
             }
            },
            "type": "scattermapbox"
           }
          ],
          "scatterpolar": [
           {
            "marker": {
             "colorbar": {
              "outlinewidth": 0,
              "ticks": ""
             }
            },
            "type": "scatterpolar"
           }
          ],
          "scatterpolargl": [
           {
            "marker": {
             "colorbar": {
              "outlinewidth": 0,
              "ticks": ""
             }
            },
            "type": "scatterpolargl"
           }
          ],
          "scatterternary": [
           {
            "marker": {
             "colorbar": {
              "outlinewidth": 0,
              "ticks": ""
             }
            },
            "type": "scatterternary"
           }
          ],
          "surface": [
           {
            "colorbar": {
             "outlinewidth": 0,
             "ticks": ""
            },
            "colorscale": [
             [
              0,
              "#0d0887"
             ],
             [
              0.1111111111111111,
              "#46039f"
             ],
             [
              0.2222222222222222,
              "#7201a8"
             ],
             [
              0.3333333333333333,
              "#9c179e"
             ],
             [
              0.4444444444444444,
              "#bd3786"
             ],
             [
              0.5555555555555556,
              "#d8576b"
             ],
             [
              0.6666666666666666,
              "#ed7953"
             ],
             [
              0.7777777777777778,
              "#fb9f3a"
             ],
             [
              0.8888888888888888,
              "#fdca26"
             ],
             [
              1,
              "#f0f921"
             ]
            ],
            "type": "surface"
           }
          ],
          "table": [
           {
            "cells": {
             "fill": {
              "color": "#EBF0F8"
             },
             "line": {
              "color": "white"
             }
            },
            "header": {
             "fill": {
              "color": "#C8D4E3"
             },
             "line": {
              "color": "white"
             }
            },
            "type": "table"
           }
          ]
         },
         "layout": {
          "annotationdefaults": {
           "arrowcolor": "#2a3f5f",
           "arrowhead": 0,
           "arrowwidth": 1
          },
          "autotypenumbers": "strict",
          "coloraxis": {
           "colorbar": {
            "outlinewidth": 0,
            "ticks": ""
           }
          },
          "colorscale": {
           "diverging": [
            [
             0,
             "#8e0152"
            ],
            [
             0.1,
             "#c51b7d"
            ],
            [
             0.2,
             "#de77ae"
            ],
            [
             0.3,
             "#f1b6da"
            ],
            [
             0.4,
             "#fde0ef"
            ],
            [
             0.5,
             "#f7f7f7"
            ],
            [
             0.6,
             "#e6f5d0"
            ],
            [
             0.7,
             "#b8e186"
            ],
            [
             0.8,
             "#7fbc41"
            ],
            [
             0.9,
             "#4d9221"
            ],
            [
             1,
             "#276419"
            ]
           ],
           "sequential": [
            [
             0,
             "#0d0887"
            ],
            [
             0.1111111111111111,
             "#46039f"
            ],
            [
             0.2222222222222222,
             "#7201a8"
            ],
            [
             0.3333333333333333,
             "#9c179e"
            ],
            [
             0.4444444444444444,
             "#bd3786"
            ],
            [
             0.5555555555555556,
             "#d8576b"
            ],
            [
             0.6666666666666666,
             "#ed7953"
            ],
            [
             0.7777777777777778,
             "#fb9f3a"
            ],
            [
             0.8888888888888888,
             "#fdca26"
            ],
            [
             1,
             "#f0f921"
            ]
           ],
           "sequentialminus": [
            [
             0,
             "#0d0887"
            ],
            [
             0.1111111111111111,
             "#46039f"
            ],
            [
             0.2222222222222222,
             "#7201a8"
            ],
            [
             0.3333333333333333,
             "#9c179e"
            ],
            [
             0.4444444444444444,
             "#bd3786"
            ],
            [
             0.5555555555555556,
             "#d8576b"
            ],
            [
             0.6666666666666666,
             "#ed7953"
            ],
            [
             0.7777777777777778,
             "#fb9f3a"
            ],
            [
             0.8888888888888888,
             "#fdca26"
            ],
            [
             1,
             "#f0f921"
            ]
           ]
          },
          "colorway": [
           "#636efa",
           "#EF553B",
           "#00cc96",
           "#ab63fa",
           "#FFA15A",
           "#19d3f3",
           "#FF6692",
           "#B6E880",
           "#FF97FF",
           "#FECB52"
          ],
          "font": {
           "color": "#2a3f5f"
          },
          "geo": {
           "bgcolor": "white",
           "lakecolor": "white",
           "landcolor": "#E5ECF6",
           "showlakes": true,
           "showland": true,
           "subunitcolor": "white"
          },
          "hoverlabel": {
           "align": "left"
          },
          "hovermode": "closest",
          "mapbox": {
           "style": "light"
          },
          "paper_bgcolor": "white",
          "plot_bgcolor": "#E5ECF6",
          "polar": {
           "angularaxis": {
            "gridcolor": "white",
            "linecolor": "white",
            "ticks": ""
           },
           "bgcolor": "#E5ECF6",
           "radialaxis": {
            "gridcolor": "white",
            "linecolor": "white",
            "ticks": ""
           }
          },
          "scene": {
           "xaxis": {
            "backgroundcolor": "#E5ECF6",
            "gridcolor": "white",
            "gridwidth": 2,
            "linecolor": "white",
            "showbackground": true,
            "ticks": "",
            "zerolinecolor": "white"
           },
           "yaxis": {
            "backgroundcolor": "#E5ECF6",
            "gridcolor": "white",
            "gridwidth": 2,
            "linecolor": "white",
            "showbackground": true,
            "ticks": "",
            "zerolinecolor": "white"
           },
           "zaxis": {
            "backgroundcolor": "#E5ECF6",
            "gridcolor": "white",
            "gridwidth": 2,
            "linecolor": "white",
            "showbackground": true,
            "ticks": "",
            "zerolinecolor": "white"
           }
          },
          "shapedefaults": {
           "line": {
            "color": "#2a3f5f"
           }
          },
          "ternary": {
           "aaxis": {
            "gridcolor": "white",
            "linecolor": "white",
            "ticks": ""
           },
           "baxis": {
            "gridcolor": "white",
            "linecolor": "white",
            "ticks": ""
           },
           "bgcolor": "#E5ECF6",
           "caxis": {
            "gridcolor": "white",
            "linecolor": "white",
            "ticks": ""
           }
          },
          "title": {
           "x": 0.05
          },
          "xaxis": {
           "automargin": true,
           "gridcolor": "white",
           "linecolor": "white",
           "ticks": "",
           "title": {
            "standoff": 15
           },
           "zerolinecolor": "white",
           "zerolinewidth": 2
          },
          "yaxis": {
           "automargin": true,
           "gridcolor": "white",
           "linecolor": "white",
           "ticks": "",
           "title": {
            "standoff": 15
           },
           "zerolinecolor": "white",
           "zerolinewidth": 2
          }
         }
        },
        "title": {
         "text": "Additive Specification"
        },
        "xaxis": {
         "anchor": "y",
         "domain": [
          0,
          1
         ],
         "title": {
          "text": "x"
         }
        },
        "yaxis": {
         "anchor": "x",
         "domain": [
          0,
          1
         ],
         "title": {
          "text": "y"
         }
        }
       }
      },
      "text/html": [
       "<div>                            <div id=\"bf97143d-9b54-49d3-96d2-83dd6e9cde6d\" class=\"plotly-graph-div\" style=\"height:525px; width:100%;\"></div>            <script type=\"text/javascript\">                require([\"plotly\"], function(Plotly) {                    window.PLOTLYENV=window.PLOTLYENV || {};                                    if (document.getElementById(\"bf97143d-9b54-49d3-96d2-83dd6e9cde6d\")) {                    Plotly.newPlot(                        \"bf97143d-9b54-49d3-96d2-83dd6e9cde6d\",                        [{\"hovertemplate\":\"x=%{x}\\u003cbr\\u003ey=%{y}\\u003cextra\\u003e\\u003c\\u002fextra\\u003e\",\"legendgroup\":\"\",\"marker\":{\"color\":\"#636efa\",\"symbol\":\"circle\"},\"mode\":\"markers+lines\",\"name\":\"\",\"orientation\":\"v\",\"showlegend\":false,\"x\":[50.0,51.01010101010101,52.02020202020202,53.03030303030303,54.04040404040404,55.05050505050505,56.06060606060606,57.07070707070707,58.08080808080808,59.09090909090909,60.101010101010104,61.111111111111114,62.121212121212125,63.131313131313135,64.14141414141415,65.15151515151516,66.16161616161617,67.17171717171718,68.18181818181819,69.1919191919192,70.20202020202021,71.21212121212122,72.22222222222223,73.23232323232324,74.24242424242425,75.25252525252526,76.26262626262627,77.27272727272728,78.28282828282829,79.2929292929293,80.30303030303031,81.31313131313132,82.32323232323233,83.33333333333334,84.34343434343435,85.35353535353536,86.36363636363637,87.37373737373738,88.3838383838384,89.3939393939394,90.40404040404042,91.41414141414143,92.42424242424244,93.43434343434345,94.44444444444446,95.45454545454547,96.46464646464648,97.47474747474749,98.48484848484848,99.4949494949495,100.5050505050505,101.51515151515152,102.52525252525253,103.53535353535354,104.54545454545455,105.55555555555556,106.56565656565657,107.57575757575758,108.58585858585859,109.5959595959596,110.60606060606061,111.61616161616162,112.62626262626263,113.63636363636364,114.64646464646465,115.65656565656566,116.66666666666667,117.67676767676768,118.68686868686869,119.6969696969697,120.70707070707071,121.71717171717172,122.72727272727273,123.73737373737374,124.74747474747475,125.75757575757576,126.76767676767678,127.77777777777779,128.7878787878788,129.7979797979798,130.80808080808083,131.8181818181818,132.82828282828285,133.83838383838383,134.84848484848487,135.85858585858585,136.8686868686869,137.87878787878788,138.8888888888889,139.8989898989899,140.90909090909093,141.91919191919192,142.92929292929296,143.93939393939394,144.94949494949498,145.95959595959596,146.96969696969697,147.97979797979798,148.989898989899,150.0],\"xaxis\":\"x\",\"y\":[0.03487680089399765,0.07855408503847176,0.07045011988717308,0.05996734024769649,0.0995864330019788,0.07599896037857092,0.03376888864868811,0.033088640082201255,0.07801047682448124,0.0705005426968597,0.03915572075470632,0.03908963530750749,0.07302469564785921,0.09381406729022475,0.09481782360402663,0.10186550848120235,0.04180301000155309,0.04405146294581897,0.052165413394186545,0.05014646218150557,0.06077918947662142,0.07647395096179582,0.040496524520539444,0.049834824570366136,0.0439633469758188,0.03502074750423193,0.10782059093675711,0.06963840040687004,0.0384993219895907,0.04200409364661501,0.07908351367635662,0.026994794629608434,0.09170384312745837,0.04065414501593639,0.0816522788851675,0.04728730442589289,0.08833901663780298,0.0936450812467695,0.047716526627468815,0.06971074762903862,0.039621349803503146,0.0670365195434662,0.09120848765288785,0.07123527637796498,0.0834112405829502,0.09828385781952106,0.04157055993339938,0.03734524444709855,0.0671324238528345,0.04347887041295606,0.06704955420771644,0.03564695784264919,0.07656499407372931,0.0809903739651036,0.036957320284266196,0.02932076218124574,0.04297428592257535,0.072124365859129,0.06594228275760901,0.028899690127867198,0.040521827095539205,0.03879875672708806,0.10017456996336131,0.10118083881956551,0.07716040122058725,0.07151832274417394,0.08661129233300768,0.07474811057907024,0.039494341607797676,0.040736776536502296,0.0810744949744998,0.029766005432035284,0.03715126388773832,0.05190292674489812,0.059211410290114806,0.07543696227154202,0.06582782909616,0.033407665259249715,0.06552784093478865,0.05370602489811334,0.032832655508352515,0.03849728918432716,0.0293576400319908,0.034047919993205535,0.04044662151002811,0.07011396007016478,0.05757483147433315,0.02993730971977143,0.03375967877201968,0.07656063341407157,0.03921983074625313,0.07168019900243029,0.043718514291715416,0.08511535185456905,0.037374523783930684,0.03799513288003738,0.061496262101909206,0.037783970202273705,0.0390970450714882,0.06576833013885686],\"yaxis\":\"y\",\"type\":\"scatter\"}],                        {\"template\":{\"data\":{\"histogram2dcontour\":[{\"type\":\"histogram2dcontour\",\"colorbar\":{\"outlinewidth\":0,\"ticks\":\"\"},\"colorscale\":[[0.0,\"#0d0887\"],[0.1111111111111111,\"#46039f\"],[0.2222222222222222,\"#7201a8\"],[0.3333333333333333,\"#9c179e\"],[0.4444444444444444,\"#bd3786\"],[0.5555555555555556,\"#d8576b\"],[0.6666666666666666,\"#ed7953\"],[0.7777777777777778,\"#fb9f3a\"],[0.8888888888888888,\"#fdca26\"],[1.0,\"#f0f921\"]]}],\"choropleth\":[{\"type\":\"choropleth\",\"colorbar\":{\"outlinewidth\":0,\"ticks\":\"\"}}],\"histogram2d\":[{\"type\":\"histogram2d\",\"colorbar\":{\"outlinewidth\":0,\"ticks\":\"\"},\"colorscale\":[[0.0,\"#0d0887\"],[0.1111111111111111,\"#46039f\"],[0.2222222222222222,\"#7201a8\"],[0.3333333333333333,\"#9c179e\"],[0.4444444444444444,\"#bd3786\"],[0.5555555555555556,\"#d8576b\"],[0.6666666666666666,\"#ed7953\"],[0.7777777777777778,\"#fb9f3a\"],[0.8888888888888888,\"#fdca26\"],[1.0,\"#f0f921\"]]}],\"heatmap\":[{\"type\":\"heatmap\",\"colorbar\":{\"outlinewidth\":0,\"ticks\":\"\"},\"colorscale\":[[0.0,\"#0d0887\"],[0.1111111111111111,\"#46039f\"],[0.2222222222222222,\"#7201a8\"],[0.3333333333333333,\"#9c179e\"],[0.4444444444444444,\"#bd3786\"],[0.5555555555555556,\"#d8576b\"],[0.6666666666666666,\"#ed7953\"],[0.7777777777777778,\"#fb9f3a\"],[0.8888888888888888,\"#fdca26\"],[1.0,\"#f0f921\"]]}],\"heatmapgl\":[{\"type\":\"heatmapgl\",\"colorbar\":{\"outlinewidth\":0,\"ticks\":\"\"},\"colorscale\":[[0.0,\"#0d0887\"],[0.1111111111111111,\"#46039f\"],[0.2222222222222222,\"#7201a8\"],[0.3333333333333333,\"#9c179e\"],[0.4444444444444444,\"#bd3786\"],[0.5555555555555556,\"#d8576b\"],[0.6666666666666666,\"#ed7953\"],[0.7777777777777778,\"#fb9f3a\"],[0.8888888888888888,\"#fdca26\"],[1.0,\"#f0f921\"]]}],\"contourcarpet\":[{\"type\":\"contourcarpet\",\"colorbar\":{\"outlinewidth\":0,\"ticks\":\"\"}}],\"contour\":[{\"type\":\"contour\",\"colorbar\":{\"outlinewidth\":0,\"ticks\":\"\"},\"colorscale\":[[0.0,\"#0d0887\"],[0.1111111111111111,\"#46039f\"],[0.2222222222222222,\"#7201a8\"],[0.3333333333333333,\"#9c179e\"],[0.4444444444444444,\"#bd3786\"],[0.5555555555555556,\"#d8576b\"],[0.6666666666666666,\"#ed7953\"],[0.7777777777777778,\"#fb9f3a\"],[0.8888888888888888,\"#fdca26\"],[1.0,\"#f0f921\"]]}],\"surface\":[{\"type\":\"surface\",\"colorbar\":{\"outlinewidth\":0,\"ticks\":\"\"},\"colorscale\":[[0.0,\"#0d0887\"],[0.1111111111111111,\"#46039f\"],[0.2222222222222222,\"#7201a8\"],[0.3333333333333333,\"#9c179e\"],[0.4444444444444444,\"#bd3786\"],[0.5555555555555556,\"#d8576b\"],[0.6666666666666666,\"#ed7953\"],[0.7777777777777778,\"#fb9f3a\"],[0.8888888888888888,\"#fdca26\"],[1.0,\"#f0f921\"]]}],\"mesh3d\":[{\"type\":\"mesh3d\",\"colorbar\":{\"outlinewidth\":0,\"ticks\":\"\"}}],\"scatter\":[{\"fillpattern\":{\"fillmode\":\"overlay\",\"size\":10,\"solidity\":0.2},\"type\":\"scatter\"}],\"parcoords\":[{\"type\":\"parcoords\",\"line\":{\"colorbar\":{\"outlinewidth\":0,\"ticks\":\"\"}}}],\"scatterpolargl\":[{\"type\":\"scatterpolargl\",\"marker\":{\"colorbar\":{\"outlinewidth\":0,\"ticks\":\"\"}}}],\"bar\":[{\"error_x\":{\"color\":\"#2a3f5f\"},\"error_y\":{\"color\":\"#2a3f5f\"},\"marker\":{\"line\":{\"color\":\"#E5ECF6\",\"width\":0.5},\"pattern\":{\"fillmode\":\"overlay\",\"size\":10,\"solidity\":0.2}},\"type\":\"bar\"}],\"scattergeo\":[{\"type\":\"scattergeo\",\"marker\":{\"colorbar\":{\"outlinewidth\":0,\"ticks\":\"\"}}}],\"scatterpolar\":[{\"type\":\"scatterpolar\",\"marker\":{\"colorbar\":{\"outlinewidth\":0,\"ticks\":\"\"}}}],\"histogram\":[{\"marker\":{\"pattern\":{\"fillmode\":\"overlay\",\"size\":10,\"solidity\":0.2}},\"type\":\"histogram\"}],\"scattergl\":[{\"type\":\"scattergl\",\"marker\":{\"colorbar\":{\"outlinewidth\":0,\"ticks\":\"\"}}}],\"scatter3d\":[{\"type\":\"scatter3d\",\"line\":{\"colorbar\":{\"outlinewidth\":0,\"ticks\":\"\"}},\"marker\":{\"colorbar\":{\"outlinewidth\":0,\"ticks\":\"\"}}}],\"scattermapbox\":[{\"type\":\"scattermapbox\",\"marker\":{\"colorbar\":{\"outlinewidth\":0,\"ticks\":\"\"}}}],\"scatterternary\":[{\"type\":\"scatterternary\",\"marker\":{\"colorbar\":{\"outlinewidth\":0,\"ticks\":\"\"}}}],\"scattercarpet\":[{\"type\":\"scattercarpet\",\"marker\":{\"colorbar\":{\"outlinewidth\":0,\"ticks\":\"\"}}}],\"carpet\":[{\"aaxis\":{\"endlinecolor\":\"#2a3f5f\",\"gridcolor\":\"white\",\"linecolor\":\"white\",\"minorgridcolor\":\"white\",\"startlinecolor\":\"#2a3f5f\"},\"baxis\":{\"endlinecolor\":\"#2a3f5f\",\"gridcolor\":\"white\",\"linecolor\":\"white\",\"minorgridcolor\":\"white\",\"startlinecolor\":\"#2a3f5f\"},\"type\":\"carpet\"}],\"table\":[{\"cells\":{\"fill\":{\"color\":\"#EBF0F8\"},\"line\":{\"color\":\"white\"}},\"header\":{\"fill\":{\"color\":\"#C8D4E3\"},\"line\":{\"color\":\"white\"}},\"type\":\"table\"}],\"barpolar\":[{\"marker\":{\"line\":{\"color\":\"#E5ECF6\",\"width\":0.5},\"pattern\":{\"fillmode\":\"overlay\",\"size\":10,\"solidity\":0.2}},\"type\":\"barpolar\"}],\"pie\":[{\"automargin\":true,\"type\":\"pie\"}]},\"layout\":{\"autotypenumbers\":\"strict\",\"colorway\":[\"#636efa\",\"#EF553B\",\"#00cc96\",\"#ab63fa\",\"#FFA15A\",\"#19d3f3\",\"#FF6692\",\"#B6E880\",\"#FF97FF\",\"#FECB52\"],\"font\":{\"color\":\"#2a3f5f\"},\"hovermode\":\"closest\",\"hoverlabel\":{\"align\":\"left\"},\"paper_bgcolor\":\"white\",\"plot_bgcolor\":\"#E5ECF6\",\"polar\":{\"bgcolor\":\"#E5ECF6\",\"angularaxis\":{\"gridcolor\":\"white\",\"linecolor\":\"white\",\"ticks\":\"\"},\"radialaxis\":{\"gridcolor\":\"white\",\"linecolor\":\"white\",\"ticks\":\"\"}},\"ternary\":{\"bgcolor\":\"#E5ECF6\",\"aaxis\":{\"gridcolor\":\"white\",\"linecolor\":\"white\",\"ticks\":\"\"},\"baxis\":{\"gridcolor\":\"white\",\"linecolor\":\"white\",\"ticks\":\"\"},\"caxis\":{\"gridcolor\":\"white\",\"linecolor\":\"white\",\"ticks\":\"\"}},\"coloraxis\":{\"colorbar\":{\"outlinewidth\":0,\"ticks\":\"\"}},\"colorscale\":{\"sequential\":[[0.0,\"#0d0887\"],[0.1111111111111111,\"#46039f\"],[0.2222222222222222,\"#7201a8\"],[0.3333333333333333,\"#9c179e\"],[0.4444444444444444,\"#bd3786\"],[0.5555555555555556,\"#d8576b\"],[0.6666666666666666,\"#ed7953\"],[0.7777777777777778,\"#fb9f3a\"],[0.8888888888888888,\"#fdca26\"],[1.0,\"#f0f921\"]],\"sequentialminus\":[[0.0,\"#0d0887\"],[0.1111111111111111,\"#46039f\"],[0.2222222222222222,\"#7201a8\"],[0.3333333333333333,\"#9c179e\"],[0.4444444444444444,\"#bd3786\"],[0.5555555555555556,\"#d8576b\"],[0.6666666666666666,\"#ed7953\"],[0.7777777777777778,\"#fb9f3a\"],[0.8888888888888888,\"#fdca26\"],[1.0,\"#f0f921\"]],\"diverging\":[[0,\"#8e0152\"],[0.1,\"#c51b7d\"],[0.2,\"#de77ae\"],[0.3,\"#f1b6da\"],[0.4,\"#fde0ef\"],[0.5,\"#f7f7f7\"],[0.6,\"#e6f5d0\"],[0.7,\"#b8e186\"],[0.8,\"#7fbc41\"],[0.9,\"#4d9221\"],[1,\"#276419\"]]},\"xaxis\":{\"gridcolor\":\"white\",\"linecolor\":\"white\",\"ticks\":\"\",\"title\":{\"standoff\":15},\"zerolinecolor\":\"white\",\"automargin\":true,\"zerolinewidth\":2},\"yaxis\":{\"gridcolor\":\"white\",\"linecolor\":\"white\",\"ticks\":\"\",\"title\":{\"standoff\":15},\"zerolinecolor\":\"white\",\"automargin\":true,\"zerolinewidth\":2},\"scene\":{\"xaxis\":{\"backgroundcolor\":\"#E5ECF6\",\"gridcolor\":\"white\",\"linecolor\":\"white\",\"showbackground\":true,\"ticks\":\"\",\"zerolinecolor\":\"white\",\"gridwidth\":2},\"yaxis\":{\"backgroundcolor\":\"#E5ECF6\",\"gridcolor\":\"white\",\"linecolor\":\"white\",\"showbackground\":true,\"ticks\":\"\",\"zerolinecolor\":\"white\",\"gridwidth\":2},\"zaxis\":{\"backgroundcolor\":\"#E5ECF6\",\"gridcolor\":\"white\",\"linecolor\":\"white\",\"showbackground\":true,\"ticks\":\"\",\"zerolinecolor\":\"white\",\"gridwidth\":2}},\"shapedefaults\":{\"line\":{\"color\":\"#2a3f5f\"}},\"annotationdefaults\":{\"arrowcolor\":\"#2a3f5f\",\"arrowhead\":0,\"arrowwidth\":1},\"geo\":{\"bgcolor\":\"white\",\"landcolor\":\"#E5ECF6\",\"subunitcolor\":\"white\",\"showland\":true,\"showlakes\":true,\"lakecolor\":\"white\"},\"title\":{\"x\":0.05},\"mapbox\":{\"style\":\"light\"}}},\"xaxis\":{\"anchor\":\"y\",\"domain\":[0.0,1.0],\"title\":{\"text\":\"x\"}},\"yaxis\":{\"anchor\":\"x\",\"domain\":[0.0,1.0],\"title\":{\"text\":\"y\"}},\"legend\":{\"tracegroupgap\":0},\"title\":{\"text\":\"Additive Specification\"}},                        {\"responsive\": true}                    ).then(function(){\n",
       "                            \n",
       "var gd = document.getElementById('bf97143d-9b54-49d3-96d2-83dd6e9cde6d');\n",
       "var x = new MutationObserver(function (mutations, observer) {{\n",
       "        var display = window.getComputedStyle(gd).display;\n",
       "        if (!display || display === 'none') {{\n",
       "            console.log([gd, 'removed!']);\n",
       "            Plotly.purge(gd);\n",
       "            observer.disconnect();\n",
       "        }}\n",
       "}});\n",
       "\n",
       "// Listen for the removal of the full notebook cells\n",
       "var notebookContainer = gd.closest('#notebook-container');\n",
       "if (notebookContainer) {{\n",
       "    x.observe(notebookContainer, {childList: true});\n",
       "}}\n",
       "\n",
       "// Listen for the clearing of the current output cell\n",
       "var outputEl = gd.closest('.output');\n",
       "if (outputEl) {{\n",
       "    x.observe(outputEl, {childList: true});\n",
       "}}\n",
       "\n",
       "                        })                };                });            </script>        </div>"
      ]
     },
     "metadata": {},
     "output_type": "display_data"
    },
    {
     "data": {
      "application/vnd.plotly.v1+json": {
       "config": {
        "plotlyServerURL": "https://plot.ly"
       },
       "data": [
        {
         "hovertemplate": "x=%{x}<br>y=%{y}<extra></extra>",
         "legendgroup": "",
         "marker": {
          "color": "#636efa",
          "symbol": "circle"
         },
         "mode": "markers+lines",
         "name": "",
         "orientation": "v",
         "showlegend": false,
         "type": "scatter",
         "x": [
          50,
          51.01010101010101,
          52.02020202020202,
          53.03030303030303,
          54.04040404040404,
          55.05050505050505,
          56.06060606060606,
          57.07070707070707,
          58.08080808080808,
          59.09090909090909,
          60.101010101010104,
          61.111111111111114,
          62.121212121212125,
          63.131313131313135,
          64.14141414141415,
          65.15151515151516,
          66.16161616161617,
          67.17171717171718,
          68.18181818181819,
          69.1919191919192,
          70.20202020202021,
          71.21212121212122,
          72.22222222222223,
          73.23232323232324,
          74.24242424242425,
          75.25252525252526,
          76.26262626262627,
          77.27272727272728,
          78.28282828282829,
          79.2929292929293,
          80.30303030303031,
          81.31313131313132,
          82.32323232323233,
          83.33333333333334,
          84.34343434343435,
          85.35353535353536,
          86.36363636363637,
          87.37373737373738,
          88.3838383838384,
          89.3939393939394,
          90.40404040404042,
          91.41414141414143,
          92.42424242424244,
          93.43434343434345,
          94.44444444444446,
          95.45454545454547,
          96.46464646464648,
          97.47474747474749,
          98.48484848484848,
          99.4949494949495,
          100.5050505050505,
          101.51515151515152,
          102.52525252525253,
          103.53535353535354,
          104.54545454545455,
          105.55555555555556,
          106.56565656565657,
          107.57575757575758,
          108.58585858585859,
          109.5959595959596,
          110.60606060606061,
          111.61616161616162,
          112.62626262626263,
          113.63636363636364,
          114.64646464646465,
          115.65656565656566,
          116.66666666666667,
          117.67676767676768,
          118.68686868686869,
          119.6969696969697,
          120.70707070707071,
          121.71717171717172,
          122.72727272727273,
          123.73737373737374,
          124.74747474747475,
          125.75757575757576,
          126.76767676767678,
          127.77777777777779,
          128.7878787878788,
          129.7979797979798,
          130.80808080808083,
          131.8181818181818,
          132.82828282828285,
          133.83838383838383,
          134.84848484848487,
          135.85858585858585,
          136.8686868686869,
          137.87878787878788,
          138.8888888888889,
          139.8989898989899,
          140.90909090909093,
          141.91919191919192,
          142.92929292929296,
          143.93939393939394,
          144.94949494949498,
          145.95959595959596,
          146.96969696969697,
          147.97979797979798,
          148.989898989899,
          150
         ],
         "xaxis": "x",
         "y": [
          0.03400030889601511,
          0.07482856618936416,
          0.07163677527587553,
          0.0680259551046506,
          0.09568311552418757,
          0.07794848117155492,
          0.03683648800690204,
          0.03490186296358708,
          0.08102364959198498,
          0.07504251745800207,
          0.03928083056024577,
          0.03951870984074827,
          0.07784956386098132,
          0.09452921296124947,
          0.09346420415053114,
          0.10460641005975094,
          0.04266287116104633,
          0.047310724064636545,
          0.05362757177901871,
          0.05077606582502129,
          0.06968240300482849,
          0.08301091649944574,
          0.04358958456083281,
          0.0515256592570083,
          0.04670178197687642,
          0.03831717110776971,
          0.11370702100251609,
          0.07719645542104375,
          0.04156945674123187,
          0.0450628534171903,
          0.08611359065280284,
          0.02998394228263761,
          0.09850563486615826,
          0.04366625135610936,
          0.087653836364947,
          0.05008643496534615,
          0.0938101880678208,
          0.10092874665956258,
          0.050313144967070546,
          0.07426461245116167,
          0.04100727556869735,
          0.07351063462578486,
          0.09409996998992605,
          0.07755075581614873,
          0.09180712538214009,
          0.10045892360717473,
          0.04179444454776882,
          0.03608178972239797,
          0.06668515764055012,
          0.04471099726027341,
          0.06531885650215445,
          0.034674211110343856,
          0.07541755830414894,
          0.07440720498921186,
          0.032744968068155945,
          0.02592253802244043,
          0.03994464083902374,
          0.06646818872841052,
          0.05828948346411361,
          0.023991800604965304,
          0.03529349721661237,
          0.032818220010432386,
          0.08903646082183292,
          0.08927076450566025,
          0.05971572486351486,
          0.05256539215683834,
          0.06846680269635044,
          0.05410788029846883,
          0.028867827032744806,
          0.03128598145584851,
          0.05798678541103107,
          0.018691438685202233,
          0.02580753036295009,
          0.03346183671011274,
          0.0490172936602202,
          0.04691777559434732,
          0.0431412604402207,
          0.021632475744479445,
          0.04110336355635897,
          0.03877730178749307,
          0.019752292646612036,
          0.021267592683953035,
          0.014060261964563375,
          0.01968612573522857,
          0.02332706936350329,
          0.03970877452853113,
          0.027213841203677216,
          0.014275698408267633,
          0.017281790005532833,
          0.03457064937410925,
          0.017607275601679705,
          0.028909897850137718,
          0.020472661502906817,
          0.03811504298000259,
          0.015839437276532736,
          0.018144219900490095,
          0.02340017173692683,
          0.013491937221498626,
          0.01401040079584311,
          0.024535462906962773
         ],
         "yaxis": "y"
        }
       ],
       "layout": {
        "legend": {
         "tracegroupgap": 0
        },
        "template": {
         "data": {
          "bar": [
           {
            "error_x": {
             "color": "#2a3f5f"
            },
            "error_y": {
             "color": "#2a3f5f"
            },
            "marker": {
             "line": {
              "color": "#E5ECF6",
              "width": 0.5
             },
             "pattern": {
              "fillmode": "overlay",
              "size": 10,
              "solidity": 0.2
             }
            },
            "type": "bar"
           }
          ],
          "barpolar": [
           {
            "marker": {
             "line": {
              "color": "#E5ECF6",
              "width": 0.5
             },
             "pattern": {
              "fillmode": "overlay",
              "size": 10,
              "solidity": 0.2
             }
            },
            "type": "barpolar"
           }
          ],
          "carpet": [
           {
            "aaxis": {
             "endlinecolor": "#2a3f5f",
             "gridcolor": "white",
             "linecolor": "white",
             "minorgridcolor": "white",
             "startlinecolor": "#2a3f5f"
            },
            "baxis": {
             "endlinecolor": "#2a3f5f",
             "gridcolor": "white",
             "linecolor": "white",
             "minorgridcolor": "white",
             "startlinecolor": "#2a3f5f"
            },
            "type": "carpet"
           }
          ],
          "choropleth": [
           {
            "colorbar": {
             "outlinewidth": 0,
             "ticks": ""
            },
            "type": "choropleth"
           }
          ],
          "contour": [
           {
            "colorbar": {
             "outlinewidth": 0,
             "ticks": ""
            },
            "colorscale": [
             [
              0,
              "#0d0887"
             ],
             [
              0.1111111111111111,
              "#46039f"
             ],
             [
              0.2222222222222222,
              "#7201a8"
             ],
             [
              0.3333333333333333,
              "#9c179e"
             ],
             [
              0.4444444444444444,
              "#bd3786"
             ],
             [
              0.5555555555555556,
              "#d8576b"
             ],
             [
              0.6666666666666666,
              "#ed7953"
             ],
             [
              0.7777777777777778,
              "#fb9f3a"
             ],
             [
              0.8888888888888888,
              "#fdca26"
             ],
             [
              1,
              "#f0f921"
             ]
            ],
            "type": "contour"
           }
          ],
          "contourcarpet": [
           {
            "colorbar": {
             "outlinewidth": 0,
             "ticks": ""
            },
            "type": "contourcarpet"
           }
          ],
          "heatmap": [
           {
            "colorbar": {
             "outlinewidth": 0,
             "ticks": ""
            },
            "colorscale": [
             [
              0,
              "#0d0887"
             ],
             [
              0.1111111111111111,
              "#46039f"
             ],
             [
              0.2222222222222222,
              "#7201a8"
             ],
             [
              0.3333333333333333,
              "#9c179e"
             ],
             [
              0.4444444444444444,
              "#bd3786"
             ],
             [
              0.5555555555555556,
              "#d8576b"
             ],
             [
              0.6666666666666666,
              "#ed7953"
             ],
             [
              0.7777777777777778,
              "#fb9f3a"
             ],
             [
              0.8888888888888888,
              "#fdca26"
             ],
             [
              1,
              "#f0f921"
             ]
            ],
            "type": "heatmap"
           }
          ],
          "heatmapgl": [
           {
            "colorbar": {
             "outlinewidth": 0,
             "ticks": ""
            },
            "colorscale": [
             [
              0,
              "#0d0887"
             ],
             [
              0.1111111111111111,
              "#46039f"
             ],
             [
              0.2222222222222222,
              "#7201a8"
             ],
             [
              0.3333333333333333,
              "#9c179e"
             ],
             [
              0.4444444444444444,
              "#bd3786"
             ],
             [
              0.5555555555555556,
              "#d8576b"
             ],
             [
              0.6666666666666666,
              "#ed7953"
             ],
             [
              0.7777777777777778,
              "#fb9f3a"
             ],
             [
              0.8888888888888888,
              "#fdca26"
             ],
             [
              1,
              "#f0f921"
             ]
            ],
            "type": "heatmapgl"
           }
          ],
          "histogram": [
           {
            "marker": {
             "pattern": {
              "fillmode": "overlay",
              "size": 10,
              "solidity": 0.2
             }
            },
            "type": "histogram"
           }
          ],
          "histogram2d": [
           {
            "colorbar": {
             "outlinewidth": 0,
             "ticks": ""
            },
            "colorscale": [
             [
              0,
              "#0d0887"
             ],
             [
              0.1111111111111111,
              "#46039f"
             ],
             [
              0.2222222222222222,
              "#7201a8"
             ],
             [
              0.3333333333333333,
              "#9c179e"
             ],
             [
              0.4444444444444444,
              "#bd3786"
             ],
             [
              0.5555555555555556,
              "#d8576b"
             ],
             [
              0.6666666666666666,
              "#ed7953"
             ],
             [
              0.7777777777777778,
              "#fb9f3a"
             ],
             [
              0.8888888888888888,
              "#fdca26"
             ],
             [
              1,
              "#f0f921"
             ]
            ],
            "type": "histogram2d"
           }
          ],
          "histogram2dcontour": [
           {
            "colorbar": {
             "outlinewidth": 0,
             "ticks": ""
            },
            "colorscale": [
             [
              0,
              "#0d0887"
             ],
             [
              0.1111111111111111,
              "#46039f"
             ],
             [
              0.2222222222222222,
              "#7201a8"
             ],
             [
              0.3333333333333333,
              "#9c179e"
             ],
             [
              0.4444444444444444,
              "#bd3786"
             ],
             [
              0.5555555555555556,
              "#d8576b"
             ],
             [
              0.6666666666666666,
              "#ed7953"
             ],
             [
              0.7777777777777778,
              "#fb9f3a"
             ],
             [
              0.8888888888888888,
              "#fdca26"
             ],
             [
              1,
              "#f0f921"
             ]
            ],
            "type": "histogram2dcontour"
           }
          ],
          "mesh3d": [
           {
            "colorbar": {
             "outlinewidth": 0,
             "ticks": ""
            },
            "type": "mesh3d"
           }
          ],
          "parcoords": [
           {
            "line": {
             "colorbar": {
              "outlinewidth": 0,
              "ticks": ""
             }
            },
            "type": "parcoords"
           }
          ],
          "pie": [
           {
            "automargin": true,
            "type": "pie"
           }
          ],
          "scatter": [
           {
            "fillpattern": {
             "fillmode": "overlay",
             "size": 10,
             "solidity": 0.2
            },
            "type": "scatter"
           }
          ],
          "scatter3d": [
           {
            "line": {
             "colorbar": {
              "outlinewidth": 0,
              "ticks": ""
             }
            },
            "marker": {
             "colorbar": {
              "outlinewidth": 0,
              "ticks": ""
             }
            },
            "type": "scatter3d"
           }
          ],
          "scattercarpet": [
           {
            "marker": {
             "colorbar": {
              "outlinewidth": 0,
              "ticks": ""
             }
            },
            "type": "scattercarpet"
           }
          ],
          "scattergeo": [
           {
            "marker": {
             "colorbar": {
              "outlinewidth": 0,
              "ticks": ""
             }
            },
            "type": "scattergeo"
           }
          ],
          "scattergl": [
           {
            "marker": {
             "colorbar": {
              "outlinewidth": 0,
              "ticks": ""
             }
            },
            "type": "scattergl"
           }
          ],
          "scattermapbox": [
           {
            "marker": {
             "colorbar": {
              "outlinewidth": 0,
              "ticks": ""
             }
            },
            "type": "scattermapbox"
           }
          ],
          "scatterpolar": [
           {
            "marker": {
             "colorbar": {
              "outlinewidth": 0,
              "ticks": ""
             }
            },
            "type": "scatterpolar"
           }
          ],
          "scatterpolargl": [
           {
            "marker": {
             "colorbar": {
              "outlinewidth": 0,
              "ticks": ""
             }
            },
            "type": "scatterpolargl"
           }
          ],
          "scatterternary": [
           {
            "marker": {
             "colorbar": {
              "outlinewidth": 0,
              "ticks": ""
             }
            },
            "type": "scatterternary"
           }
          ],
          "surface": [
           {
            "colorbar": {
             "outlinewidth": 0,
             "ticks": ""
            },
            "colorscale": [
             [
              0,
              "#0d0887"
             ],
             [
              0.1111111111111111,
              "#46039f"
             ],
             [
              0.2222222222222222,
              "#7201a8"
             ],
             [
              0.3333333333333333,
              "#9c179e"
             ],
             [
              0.4444444444444444,
              "#bd3786"
             ],
             [
              0.5555555555555556,
              "#d8576b"
             ],
             [
              0.6666666666666666,
              "#ed7953"
             ],
             [
              0.7777777777777778,
              "#fb9f3a"
             ],
             [
              0.8888888888888888,
              "#fdca26"
             ],
             [
              1,
              "#f0f921"
             ]
            ],
            "type": "surface"
           }
          ],
          "table": [
           {
            "cells": {
             "fill": {
              "color": "#EBF0F8"
             },
             "line": {
              "color": "white"
             }
            },
            "header": {
             "fill": {
              "color": "#C8D4E3"
             },
             "line": {
              "color": "white"
             }
            },
            "type": "table"
           }
          ]
         },
         "layout": {
          "annotationdefaults": {
           "arrowcolor": "#2a3f5f",
           "arrowhead": 0,
           "arrowwidth": 1
          },
          "autotypenumbers": "strict",
          "coloraxis": {
           "colorbar": {
            "outlinewidth": 0,
            "ticks": ""
           }
          },
          "colorscale": {
           "diverging": [
            [
             0,
             "#8e0152"
            ],
            [
             0.1,
             "#c51b7d"
            ],
            [
             0.2,
             "#de77ae"
            ],
            [
             0.3,
             "#f1b6da"
            ],
            [
             0.4,
             "#fde0ef"
            ],
            [
             0.5,
             "#f7f7f7"
            ],
            [
             0.6,
             "#e6f5d0"
            ],
            [
             0.7,
             "#b8e186"
            ],
            [
             0.8,
             "#7fbc41"
            ],
            [
             0.9,
             "#4d9221"
            ],
            [
             1,
             "#276419"
            ]
           ],
           "sequential": [
            [
             0,
             "#0d0887"
            ],
            [
             0.1111111111111111,
             "#46039f"
            ],
            [
             0.2222222222222222,
             "#7201a8"
            ],
            [
             0.3333333333333333,
             "#9c179e"
            ],
            [
             0.4444444444444444,
             "#bd3786"
            ],
            [
             0.5555555555555556,
             "#d8576b"
            ],
            [
             0.6666666666666666,
             "#ed7953"
            ],
            [
             0.7777777777777778,
             "#fb9f3a"
            ],
            [
             0.8888888888888888,
             "#fdca26"
            ],
            [
             1,
             "#f0f921"
            ]
           ],
           "sequentialminus": [
            [
             0,
             "#0d0887"
            ],
            [
             0.1111111111111111,
             "#46039f"
            ],
            [
             0.2222222222222222,
             "#7201a8"
            ],
            [
             0.3333333333333333,
             "#9c179e"
            ],
            [
             0.4444444444444444,
             "#bd3786"
            ],
            [
             0.5555555555555556,
             "#d8576b"
            ],
            [
             0.6666666666666666,
             "#ed7953"
            ],
            [
             0.7777777777777778,
             "#fb9f3a"
            ],
            [
             0.8888888888888888,
             "#fdca26"
            ],
            [
             1,
             "#f0f921"
            ]
           ]
          },
          "colorway": [
           "#636efa",
           "#EF553B",
           "#00cc96",
           "#ab63fa",
           "#FFA15A",
           "#19d3f3",
           "#FF6692",
           "#B6E880",
           "#FF97FF",
           "#FECB52"
          ],
          "font": {
           "color": "#2a3f5f"
          },
          "geo": {
           "bgcolor": "white",
           "lakecolor": "white",
           "landcolor": "#E5ECF6",
           "showlakes": true,
           "showland": true,
           "subunitcolor": "white"
          },
          "hoverlabel": {
           "align": "left"
          },
          "hovermode": "closest",
          "mapbox": {
           "style": "light"
          },
          "paper_bgcolor": "white",
          "plot_bgcolor": "#E5ECF6",
          "polar": {
           "angularaxis": {
            "gridcolor": "white",
            "linecolor": "white",
            "ticks": ""
           },
           "bgcolor": "#E5ECF6",
           "radialaxis": {
            "gridcolor": "white",
            "linecolor": "white",
            "ticks": ""
           }
          },
          "scene": {
           "xaxis": {
            "backgroundcolor": "#E5ECF6",
            "gridcolor": "white",
            "gridwidth": 2,
            "linecolor": "white",
            "showbackground": true,
            "ticks": "",
            "zerolinecolor": "white"
           },
           "yaxis": {
            "backgroundcolor": "#E5ECF6",
            "gridcolor": "white",
            "gridwidth": 2,
            "linecolor": "white",
            "showbackground": true,
            "ticks": "",
            "zerolinecolor": "white"
           },
           "zaxis": {
            "backgroundcolor": "#E5ECF6",
            "gridcolor": "white",
            "gridwidth": 2,
            "linecolor": "white",
            "showbackground": true,
            "ticks": "",
            "zerolinecolor": "white"
           }
          },
          "shapedefaults": {
           "line": {
            "color": "#2a3f5f"
           }
          },
          "ternary": {
           "aaxis": {
            "gridcolor": "white",
            "linecolor": "white",
            "ticks": ""
           },
           "baxis": {
            "gridcolor": "white",
            "linecolor": "white",
            "ticks": ""
           },
           "bgcolor": "#E5ECF6",
           "caxis": {
            "gridcolor": "white",
            "linecolor": "white",
            "ticks": ""
           }
          },
          "title": {
           "x": 0.05
          },
          "xaxis": {
           "automargin": true,
           "gridcolor": "white",
           "linecolor": "white",
           "ticks": "",
           "title": {
            "standoff": 15
           },
           "zerolinecolor": "white",
           "zerolinewidth": 2
          },
          "yaxis": {
           "automargin": true,
           "gridcolor": "white",
           "linecolor": "white",
           "ticks": "",
           "title": {
            "standoff": 15
           },
           "zerolinecolor": "white",
           "zerolinewidth": 2
          }
         }
        },
        "title": {
         "text": "Synergistic Specification"
        },
        "xaxis": {
         "anchor": "y",
         "domain": [
          0,
          1
         ],
         "title": {
          "text": "x"
         }
        },
        "yaxis": {
         "anchor": "x",
         "domain": [
          0,
          1
         ],
         "title": {
          "text": "y"
         }
        }
       }
      },
      "text/html": [
       "<div>                            <div id=\"eec41ac4-6e1b-4bc8-b751-3ed60c1d71aa\" class=\"plotly-graph-div\" style=\"height:525px; width:100%;\"></div>            <script type=\"text/javascript\">                require([\"plotly\"], function(Plotly) {                    window.PLOTLYENV=window.PLOTLYENV || {};                                    if (document.getElementById(\"eec41ac4-6e1b-4bc8-b751-3ed60c1d71aa\")) {                    Plotly.newPlot(                        \"eec41ac4-6e1b-4bc8-b751-3ed60c1d71aa\",                        [{\"hovertemplate\":\"x=%{x}\\u003cbr\\u003ey=%{y}\\u003cextra\\u003e\\u003c\\u002fextra\\u003e\",\"legendgroup\":\"\",\"marker\":{\"color\":\"#636efa\",\"symbol\":\"circle\"},\"mode\":\"markers+lines\",\"name\":\"\",\"orientation\":\"v\",\"showlegend\":false,\"x\":[50.0,51.01010101010101,52.02020202020202,53.03030303030303,54.04040404040404,55.05050505050505,56.06060606060606,57.07070707070707,58.08080808080808,59.09090909090909,60.101010101010104,61.111111111111114,62.121212121212125,63.131313131313135,64.14141414141415,65.15151515151516,66.16161616161617,67.17171717171718,68.18181818181819,69.1919191919192,70.20202020202021,71.21212121212122,72.22222222222223,73.23232323232324,74.24242424242425,75.25252525252526,76.26262626262627,77.27272727272728,78.28282828282829,79.2929292929293,80.30303030303031,81.31313131313132,82.32323232323233,83.33333333333334,84.34343434343435,85.35353535353536,86.36363636363637,87.37373737373738,88.3838383838384,89.3939393939394,90.40404040404042,91.41414141414143,92.42424242424244,93.43434343434345,94.44444444444446,95.45454545454547,96.46464646464648,97.47474747474749,98.48484848484848,99.4949494949495,100.5050505050505,101.51515151515152,102.52525252525253,103.53535353535354,104.54545454545455,105.55555555555556,106.56565656565657,107.57575757575758,108.58585858585859,109.5959595959596,110.60606060606061,111.61616161616162,112.62626262626263,113.63636363636364,114.64646464646465,115.65656565656566,116.66666666666667,117.67676767676768,118.68686868686869,119.6969696969697,120.70707070707071,121.71717171717172,122.72727272727273,123.73737373737374,124.74747474747475,125.75757575757576,126.76767676767678,127.77777777777779,128.7878787878788,129.7979797979798,130.80808080808083,131.8181818181818,132.82828282828285,133.83838383838383,134.84848484848487,135.85858585858585,136.8686868686869,137.87878787878788,138.8888888888889,139.8989898989899,140.90909090909093,141.91919191919192,142.92929292929296,143.93939393939394,144.94949494949498,145.95959595959596,146.96969696969697,147.97979797979798,148.989898989899,150.0],\"xaxis\":\"x\",\"y\":[0.03400030889601511,0.07482856618936416,0.07163677527587553,0.0680259551046506,0.09568311552418757,0.07794848117155492,0.03683648800690204,0.03490186296358708,0.08102364959198498,0.07504251745800207,0.03928083056024577,0.03951870984074827,0.07784956386098132,0.09452921296124947,0.09346420415053114,0.10460641005975094,0.04266287116104633,0.047310724064636545,0.05362757177901871,0.05077606582502129,0.06968240300482849,0.08301091649944574,0.04358958456083281,0.0515256592570083,0.04670178197687642,0.03831717110776971,0.11370702100251609,0.07719645542104375,0.04156945674123187,0.0450628534171903,0.08611359065280284,0.02998394228263761,0.09850563486615826,0.04366625135610936,0.087653836364947,0.05008643496534615,0.0938101880678208,0.10092874665956258,0.050313144967070546,0.07426461245116167,0.04100727556869735,0.07351063462578486,0.09409996998992605,0.07755075581614873,0.09180712538214009,0.10045892360717473,0.04179444454776882,0.03608178972239797,0.06668515764055012,0.04471099726027341,0.06531885650215445,0.034674211110343856,0.07541755830414894,0.07440720498921186,0.032744968068155945,0.02592253802244043,0.03994464083902374,0.06646818872841052,0.05828948346411361,0.023991800604965304,0.03529349721661237,0.032818220010432386,0.08903646082183292,0.08927076450566025,0.05971572486351486,0.05256539215683834,0.06846680269635044,0.05410788029846883,0.028867827032744806,0.03128598145584851,0.05798678541103107,0.018691438685202233,0.02580753036295009,0.03346183671011274,0.0490172936602202,0.04691777559434732,0.0431412604402207,0.021632475744479445,0.04110336355635897,0.03877730178749307,0.019752292646612036,0.021267592683953035,0.014060261964563375,0.01968612573522857,0.02332706936350329,0.03970877452853113,0.027213841203677216,0.014275698408267633,0.017281790005532833,0.03457064937410925,0.017607275601679705,0.028909897850137718,0.020472661502906817,0.03811504298000259,0.015839437276532736,0.018144219900490095,0.02340017173692683,0.013491937221498626,0.01401040079584311,0.024535462906962773],\"yaxis\":\"y\",\"type\":\"scatter\"}],                        {\"template\":{\"data\":{\"histogram2dcontour\":[{\"type\":\"histogram2dcontour\",\"colorbar\":{\"outlinewidth\":0,\"ticks\":\"\"},\"colorscale\":[[0.0,\"#0d0887\"],[0.1111111111111111,\"#46039f\"],[0.2222222222222222,\"#7201a8\"],[0.3333333333333333,\"#9c179e\"],[0.4444444444444444,\"#bd3786\"],[0.5555555555555556,\"#d8576b\"],[0.6666666666666666,\"#ed7953\"],[0.7777777777777778,\"#fb9f3a\"],[0.8888888888888888,\"#fdca26\"],[1.0,\"#f0f921\"]]}],\"choropleth\":[{\"type\":\"choropleth\",\"colorbar\":{\"outlinewidth\":0,\"ticks\":\"\"}}],\"histogram2d\":[{\"type\":\"histogram2d\",\"colorbar\":{\"outlinewidth\":0,\"ticks\":\"\"},\"colorscale\":[[0.0,\"#0d0887\"],[0.1111111111111111,\"#46039f\"],[0.2222222222222222,\"#7201a8\"],[0.3333333333333333,\"#9c179e\"],[0.4444444444444444,\"#bd3786\"],[0.5555555555555556,\"#d8576b\"],[0.6666666666666666,\"#ed7953\"],[0.7777777777777778,\"#fb9f3a\"],[0.8888888888888888,\"#fdca26\"],[1.0,\"#f0f921\"]]}],\"heatmap\":[{\"type\":\"heatmap\",\"colorbar\":{\"outlinewidth\":0,\"ticks\":\"\"},\"colorscale\":[[0.0,\"#0d0887\"],[0.1111111111111111,\"#46039f\"],[0.2222222222222222,\"#7201a8\"],[0.3333333333333333,\"#9c179e\"],[0.4444444444444444,\"#bd3786\"],[0.5555555555555556,\"#d8576b\"],[0.6666666666666666,\"#ed7953\"],[0.7777777777777778,\"#fb9f3a\"],[0.8888888888888888,\"#fdca26\"],[1.0,\"#f0f921\"]]}],\"heatmapgl\":[{\"type\":\"heatmapgl\",\"colorbar\":{\"outlinewidth\":0,\"ticks\":\"\"},\"colorscale\":[[0.0,\"#0d0887\"],[0.1111111111111111,\"#46039f\"],[0.2222222222222222,\"#7201a8\"],[0.3333333333333333,\"#9c179e\"],[0.4444444444444444,\"#bd3786\"],[0.5555555555555556,\"#d8576b\"],[0.6666666666666666,\"#ed7953\"],[0.7777777777777778,\"#fb9f3a\"],[0.8888888888888888,\"#fdca26\"],[1.0,\"#f0f921\"]]}],\"contourcarpet\":[{\"type\":\"contourcarpet\",\"colorbar\":{\"outlinewidth\":0,\"ticks\":\"\"}}],\"contour\":[{\"type\":\"contour\",\"colorbar\":{\"outlinewidth\":0,\"ticks\":\"\"},\"colorscale\":[[0.0,\"#0d0887\"],[0.1111111111111111,\"#46039f\"],[0.2222222222222222,\"#7201a8\"],[0.3333333333333333,\"#9c179e\"],[0.4444444444444444,\"#bd3786\"],[0.5555555555555556,\"#d8576b\"],[0.6666666666666666,\"#ed7953\"],[0.7777777777777778,\"#fb9f3a\"],[0.8888888888888888,\"#fdca26\"],[1.0,\"#f0f921\"]]}],\"surface\":[{\"type\":\"surface\",\"colorbar\":{\"outlinewidth\":0,\"ticks\":\"\"},\"colorscale\":[[0.0,\"#0d0887\"],[0.1111111111111111,\"#46039f\"],[0.2222222222222222,\"#7201a8\"],[0.3333333333333333,\"#9c179e\"],[0.4444444444444444,\"#bd3786\"],[0.5555555555555556,\"#d8576b\"],[0.6666666666666666,\"#ed7953\"],[0.7777777777777778,\"#fb9f3a\"],[0.8888888888888888,\"#fdca26\"],[1.0,\"#f0f921\"]]}],\"mesh3d\":[{\"type\":\"mesh3d\",\"colorbar\":{\"outlinewidth\":0,\"ticks\":\"\"}}],\"scatter\":[{\"fillpattern\":{\"fillmode\":\"overlay\",\"size\":10,\"solidity\":0.2},\"type\":\"scatter\"}],\"parcoords\":[{\"type\":\"parcoords\",\"line\":{\"colorbar\":{\"outlinewidth\":0,\"ticks\":\"\"}}}],\"scatterpolargl\":[{\"type\":\"scatterpolargl\",\"marker\":{\"colorbar\":{\"outlinewidth\":0,\"ticks\":\"\"}}}],\"bar\":[{\"error_x\":{\"color\":\"#2a3f5f\"},\"error_y\":{\"color\":\"#2a3f5f\"},\"marker\":{\"line\":{\"color\":\"#E5ECF6\",\"width\":0.5},\"pattern\":{\"fillmode\":\"overlay\",\"size\":10,\"solidity\":0.2}},\"type\":\"bar\"}],\"scattergeo\":[{\"type\":\"scattergeo\",\"marker\":{\"colorbar\":{\"outlinewidth\":0,\"ticks\":\"\"}}}],\"scatterpolar\":[{\"type\":\"scatterpolar\",\"marker\":{\"colorbar\":{\"outlinewidth\":0,\"ticks\":\"\"}}}],\"histogram\":[{\"marker\":{\"pattern\":{\"fillmode\":\"overlay\",\"size\":10,\"solidity\":0.2}},\"type\":\"histogram\"}],\"scattergl\":[{\"type\":\"scattergl\",\"marker\":{\"colorbar\":{\"outlinewidth\":0,\"ticks\":\"\"}}}],\"scatter3d\":[{\"type\":\"scatter3d\",\"line\":{\"colorbar\":{\"outlinewidth\":0,\"ticks\":\"\"}},\"marker\":{\"colorbar\":{\"outlinewidth\":0,\"ticks\":\"\"}}}],\"scattermapbox\":[{\"type\":\"scattermapbox\",\"marker\":{\"colorbar\":{\"outlinewidth\":0,\"ticks\":\"\"}}}],\"scatterternary\":[{\"type\":\"scatterternary\",\"marker\":{\"colorbar\":{\"outlinewidth\":0,\"ticks\":\"\"}}}],\"scattercarpet\":[{\"type\":\"scattercarpet\",\"marker\":{\"colorbar\":{\"outlinewidth\":0,\"ticks\":\"\"}}}],\"carpet\":[{\"aaxis\":{\"endlinecolor\":\"#2a3f5f\",\"gridcolor\":\"white\",\"linecolor\":\"white\",\"minorgridcolor\":\"white\",\"startlinecolor\":\"#2a3f5f\"},\"baxis\":{\"endlinecolor\":\"#2a3f5f\",\"gridcolor\":\"white\",\"linecolor\":\"white\",\"minorgridcolor\":\"white\",\"startlinecolor\":\"#2a3f5f\"},\"type\":\"carpet\"}],\"table\":[{\"cells\":{\"fill\":{\"color\":\"#EBF0F8\"},\"line\":{\"color\":\"white\"}},\"header\":{\"fill\":{\"color\":\"#C8D4E3\"},\"line\":{\"color\":\"white\"}},\"type\":\"table\"}],\"barpolar\":[{\"marker\":{\"line\":{\"color\":\"#E5ECF6\",\"width\":0.5},\"pattern\":{\"fillmode\":\"overlay\",\"size\":10,\"solidity\":0.2}},\"type\":\"barpolar\"}],\"pie\":[{\"automargin\":true,\"type\":\"pie\"}]},\"layout\":{\"autotypenumbers\":\"strict\",\"colorway\":[\"#636efa\",\"#EF553B\",\"#00cc96\",\"#ab63fa\",\"#FFA15A\",\"#19d3f3\",\"#FF6692\",\"#B6E880\",\"#FF97FF\",\"#FECB52\"],\"font\":{\"color\":\"#2a3f5f\"},\"hovermode\":\"closest\",\"hoverlabel\":{\"align\":\"left\"},\"paper_bgcolor\":\"white\",\"plot_bgcolor\":\"#E5ECF6\",\"polar\":{\"bgcolor\":\"#E5ECF6\",\"angularaxis\":{\"gridcolor\":\"white\",\"linecolor\":\"white\",\"ticks\":\"\"},\"radialaxis\":{\"gridcolor\":\"white\",\"linecolor\":\"white\",\"ticks\":\"\"}},\"ternary\":{\"bgcolor\":\"#E5ECF6\",\"aaxis\":{\"gridcolor\":\"white\",\"linecolor\":\"white\",\"ticks\":\"\"},\"baxis\":{\"gridcolor\":\"white\",\"linecolor\":\"white\",\"ticks\":\"\"},\"caxis\":{\"gridcolor\":\"white\",\"linecolor\":\"white\",\"ticks\":\"\"}},\"coloraxis\":{\"colorbar\":{\"outlinewidth\":0,\"ticks\":\"\"}},\"colorscale\":{\"sequential\":[[0.0,\"#0d0887\"],[0.1111111111111111,\"#46039f\"],[0.2222222222222222,\"#7201a8\"],[0.3333333333333333,\"#9c179e\"],[0.4444444444444444,\"#bd3786\"],[0.5555555555555556,\"#d8576b\"],[0.6666666666666666,\"#ed7953\"],[0.7777777777777778,\"#fb9f3a\"],[0.8888888888888888,\"#fdca26\"],[1.0,\"#f0f921\"]],\"sequentialminus\":[[0.0,\"#0d0887\"],[0.1111111111111111,\"#46039f\"],[0.2222222222222222,\"#7201a8\"],[0.3333333333333333,\"#9c179e\"],[0.4444444444444444,\"#bd3786\"],[0.5555555555555556,\"#d8576b\"],[0.6666666666666666,\"#ed7953\"],[0.7777777777777778,\"#fb9f3a\"],[0.8888888888888888,\"#fdca26\"],[1.0,\"#f0f921\"]],\"diverging\":[[0,\"#8e0152\"],[0.1,\"#c51b7d\"],[0.2,\"#de77ae\"],[0.3,\"#f1b6da\"],[0.4,\"#fde0ef\"],[0.5,\"#f7f7f7\"],[0.6,\"#e6f5d0\"],[0.7,\"#b8e186\"],[0.8,\"#7fbc41\"],[0.9,\"#4d9221\"],[1,\"#276419\"]]},\"xaxis\":{\"gridcolor\":\"white\",\"linecolor\":\"white\",\"ticks\":\"\",\"title\":{\"standoff\":15},\"zerolinecolor\":\"white\",\"automargin\":true,\"zerolinewidth\":2},\"yaxis\":{\"gridcolor\":\"white\",\"linecolor\":\"white\",\"ticks\":\"\",\"title\":{\"standoff\":15},\"zerolinecolor\":\"white\",\"automargin\":true,\"zerolinewidth\":2},\"scene\":{\"xaxis\":{\"backgroundcolor\":\"#E5ECF6\",\"gridcolor\":\"white\",\"linecolor\":\"white\",\"showbackground\":true,\"ticks\":\"\",\"zerolinecolor\":\"white\",\"gridwidth\":2},\"yaxis\":{\"backgroundcolor\":\"#E5ECF6\",\"gridcolor\":\"white\",\"linecolor\":\"white\",\"showbackground\":true,\"ticks\":\"\",\"zerolinecolor\":\"white\",\"gridwidth\":2},\"zaxis\":{\"backgroundcolor\":\"#E5ECF6\",\"gridcolor\":\"white\",\"linecolor\":\"white\",\"showbackground\":true,\"ticks\":\"\",\"zerolinecolor\":\"white\",\"gridwidth\":2}},\"shapedefaults\":{\"line\":{\"color\":\"#2a3f5f\"}},\"annotationdefaults\":{\"arrowcolor\":\"#2a3f5f\",\"arrowhead\":0,\"arrowwidth\":1},\"geo\":{\"bgcolor\":\"white\",\"landcolor\":\"#E5ECF6\",\"subunitcolor\":\"white\",\"showland\":true,\"showlakes\":true,\"lakecolor\":\"white\"},\"title\":{\"x\":0.05},\"mapbox\":{\"style\":\"light\"}}},\"xaxis\":{\"anchor\":\"y\",\"domain\":[0.0,1.0],\"title\":{\"text\":\"x\"}},\"yaxis\":{\"anchor\":\"x\",\"domain\":[0.0,1.0],\"title\":{\"text\":\"y\"}},\"legend\":{\"tracegroupgap\":0},\"title\":{\"text\":\"Synergistic Specification\"}},                        {\"responsive\": true}                    ).then(function(){\n",
       "                            \n",
       "var gd = document.getElementById('eec41ac4-6e1b-4bc8-b751-3ed60c1d71aa');\n",
       "var x = new MutationObserver(function (mutations, observer) {{\n",
       "        var display = window.getComputedStyle(gd).display;\n",
       "        if (!display || display === 'none') {{\n",
       "            console.log([gd, 'removed!']);\n",
       "            Plotly.purge(gd);\n",
       "            observer.disconnect();\n",
       "        }}\n",
       "}});\n",
       "\n",
       "// Listen for the removal of the full notebook cells\n",
       "var notebookContainer = gd.closest('#notebook-container');\n",
       "if (notebookContainer) {{\n",
       "    x.observe(notebookContainer, {childList: true});\n",
       "}}\n",
       "\n",
       "// Listen for the clearing of the current output cell\n",
       "var outputEl = gd.closest('.output');\n",
       "if (outputEl) {{\n",
       "    x.observe(outputEl, {childList: true});\n",
       "}}\n",
       "\n",
       "                        })                };                });            </script>        </div>"
      ]
     },
     "metadata": {},
     "output_type": "display_data"
    }
   ],
   "source": [
    "import numpy as np\n",
    "import plotly.express as px\n",
    "\n",
    "# Simulate predictor data for plotting\n",
    "np.random.seed(42)\n",
    "attack_vals = np.linspace(50, 150, 100)\n",
    "defense_vals = attack_vals + np.random.normal(0, 10, size=100)\n",
    "binary_vals = np.random.choice([0, 1], size=100)\n",
    "generation_vals = np.random.choice(range(1, 7), size=100)\n",
    "\n",
    "# Generate outcome probabilities for visualization\n",
    "additive_probs = log_reg_additive.predict(pd.DataFrame({\n",
    "    'Attack': attack_vals,\n",
    "    'Defense': defense_vals,\n",
    "    'Generation': generation_vals\n",
    "}))\n",
    "\n",
    "synergistic_probs = log_reg_synergistic.predict(pd.DataFrame({\n",
    "    'Attack': attack_vals,\n",
    "    'Defense': defense_vals,\n",
    "    'Generation': generation_vals\n",
    "}))\n",
    "\n",
    "# Plot Additive Specification\n",
    "fig_additive = px.scatter(x=attack_vals, y=additive_probs, title=\"Additive Specification\")\n",
    "fig_additive.update_traces(mode='markers+lines')\n",
    "fig_additive.show()\n",
    "\n",
    "# Plot Synergistic Specification\n",
    "fig_synergistic = px.scatter(x=attack_vals, y=synergistic_probs, title=\"Synergistic Specification\")\n",
    "fig_synergistic.update_traces(mode='markers+lines')\n",
    "fig_synergistic.show()\n"
   ]
  },
  {
   "cell_type": "code",
   "execution_count": 6,
   "id": "86b1dbae",
   "metadata": {},
   "outputs": [
    {
     "data": {
      "text/html": [
       "<div>\n",
       "<style scoped>\n",
       "    .dataframe tbody tr th:only-of-type {\n",
       "        vertical-align: middle;\n",
       "    }\n",
       "\n",
       "    .dataframe tbody tr th {\n",
       "        vertical-align: top;\n",
       "    }\n",
       "\n",
       "    .dataframe thead th {\n",
       "        text-align: right;\n",
       "    }\n",
       "</style>\n",
       "<table border=\"1\" class=\"dataframe\">\n",
       "  <thead>\n",
       "    <tr style=\"text-align: right;\">\n",
       "      <th></th>\n",
       "      <th>#</th>\n",
       "      <th>Name</th>\n",
       "      <th>Type 1</th>\n",
       "      <th>Type 2</th>\n",
       "      <th>HP</th>\n",
       "      <th>Attack</th>\n",
       "      <th>Defense</th>\n",
       "      <th>Sp. Atk</th>\n",
       "      <th>Sp. Def</th>\n",
       "      <th>Speed</th>\n",
       "      <th>Generation</th>\n",
       "      <th>Legendary</th>\n",
       "    </tr>\n",
       "  </thead>\n",
       "  <tbody>\n",
       "    <tr>\n",
       "      <th>0</th>\n",
       "      <td>1</td>\n",
       "      <td>Bulbasaur</td>\n",
       "      <td>Grass</td>\n",
       "      <td>Poison</td>\n",
       "      <td>45</td>\n",
       "      <td>49</td>\n",
       "      <td>49</td>\n",
       "      <td>65</td>\n",
       "      <td>65</td>\n",
       "      <td>45</td>\n",
       "      <td>1</td>\n",
       "      <td>False</td>\n",
       "    </tr>\n",
       "    <tr>\n",
       "      <th>1</th>\n",
       "      <td>2</td>\n",
       "      <td>Ivysaur</td>\n",
       "      <td>Grass</td>\n",
       "      <td>Poison</td>\n",
       "      <td>60</td>\n",
       "      <td>62</td>\n",
       "      <td>63</td>\n",
       "      <td>80</td>\n",
       "      <td>80</td>\n",
       "      <td>60</td>\n",
       "      <td>1</td>\n",
       "      <td>False</td>\n",
       "    </tr>\n",
       "    <tr>\n",
       "      <th>2</th>\n",
       "      <td>3</td>\n",
       "      <td>Venusaur</td>\n",
       "      <td>Grass</td>\n",
       "      <td>Poison</td>\n",
       "      <td>80</td>\n",
       "      <td>82</td>\n",
       "      <td>83</td>\n",
       "      <td>100</td>\n",
       "      <td>100</td>\n",
       "      <td>80</td>\n",
       "      <td>1</td>\n",
       "      <td>False</td>\n",
       "    </tr>\n",
       "    <tr>\n",
       "      <th>3</th>\n",
       "      <td>3</td>\n",
       "      <td>VenusaurMega Venusaur</td>\n",
       "      <td>Grass</td>\n",
       "      <td>Poison</td>\n",
       "      <td>80</td>\n",
       "      <td>100</td>\n",
       "      <td>123</td>\n",
       "      <td>122</td>\n",
       "      <td>120</td>\n",
       "      <td>80</td>\n",
       "      <td>1</td>\n",
       "      <td>False</td>\n",
       "    </tr>\n",
       "    <tr>\n",
       "      <th>4</th>\n",
       "      <td>4</td>\n",
       "      <td>Charmander</td>\n",
       "      <td>Fire</td>\n",
       "      <td>NaN</td>\n",
       "      <td>39</td>\n",
       "      <td>52</td>\n",
       "      <td>43</td>\n",
       "      <td>60</td>\n",
       "      <td>50</td>\n",
       "      <td>65</td>\n",
       "      <td>1</td>\n",
       "      <td>False</td>\n",
       "    </tr>\n",
       "    <tr>\n",
       "      <th>...</th>\n",
       "      <td>...</td>\n",
       "      <td>...</td>\n",
       "      <td>...</td>\n",
       "      <td>...</td>\n",
       "      <td>...</td>\n",
       "      <td>...</td>\n",
       "      <td>...</td>\n",
       "      <td>...</td>\n",
       "      <td>...</td>\n",
       "      <td>...</td>\n",
       "      <td>...</td>\n",
       "      <td>...</td>\n",
       "    </tr>\n",
       "    <tr>\n",
       "      <th>795</th>\n",
       "      <td>719</td>\n",
       "      <td>Diancie</td>\n",
       "      <td>Rock</td>\n",
       "      <td>Fairy</td>\n",
       "      <td>50</td>\n",
       "      <td>100</td>\n",
       "      <td>150</td>\n",
       "      <td>100</td>\n",
       "      <td>150</td>\n",
       "      <td>50</td>\n",
       "      <td>6</td>\n",
       "      <td>True</td>\n",
       "    </tr>\n",
       "    <tr>\n",
       "      <th>796</th>\n",
       "      <td>719</td>\n",
       "      <td>DiancieMega Diancie</td>\n",
       "      <td>Rock</td>\n",
       "      <td>Fairy</td>\n",
       "      <td>50</td>\n",
       "      <td>160</td>\n",
       "      <td>110</td>\n",
       "      <td>160</td>\n",
       "      <td>110</td>\n",
       "      <td>110</td>\n",
       "      <td>6</td>\n",
       "      <td>True</td>\n",
       "    </tr>\n",
       "    <tr>\n",
       "      <th>797</th>\n",
       "      <td>720</td>\n",
       "      <td>HoopaHoopa Confined</td>\n",
       "      <td>Psychic</td>\n",
       "      <td>Ghost</td>\n",
       "      <td>80</td>\n",
       "      <td>110</td>\n",
       "      <td>60</td>\n",
       "      <td>150</td>\n",
       "      <td>130</td>\n",
       "      <td>70</td>\n",
       "      <td>6</td>\n",
       "      <td>True</td>\n",
       "    </tr>\n",
       "    <tr>\n",
       "      <th>798</th>\n",
       "      <td>720</td>\n",
       "      <td>HoopaHoopa Unbound</td>\n",
       "      <td>Psychic</td>\n",
       "      <td>Dark</td>\n",
       "      <td>80</td>\n",
       "      <td>160</td>\n",
       "      <td>60</td>\n",
       "      <td>170</td>\n",
       "      <td>130</td>\n",
       "      <td>80</td>\n",
       "      <td>6</td>\n",
       "      <td>True</td>\n",
       "    </tr>\n",
       "    <tr>\n",
       "      <th>799</th>\n",
       "      <td>721</td>\n",
       "      <td>Volcanion</td>\n",
       "      <td>Fire</td>\n",
       "      <td>Water</td>\n",
       "      <td>80</td>\n",
       "      <td>110</td>\n",
       "      <td>120</td>\n",
       "      <td>130</td>\n",
       "      <td>90</td>\n",
       "      <td>70</td>\n",
       "      <td>6</td>\n",
       "      <td>True</td>\n",
       "    </tr>\n",
       "  </tbody>\n",
       "</table>\n",
       "<p>800 rows × 12 columns</p>\n",
       "</div>"
      ],
      "text/plain": [
       "       #                   Name   Type 1  Type 2  HP  Attack  Defense  \\\n",
       "0      1              Bulbasaur    Grass  Poison  45      49       49   \n",
       "1      2                Ivysaur    Grass  Poison  60      62       63   \n",
       "2      3               Venusaur    Grass  Poison  80      82       83   \n",
       "3      3  VenusaurMega Venusaur    Grass  Poison  80     100      123   \n",
       "4      4             Charmander     Fire     NaN  39      52       43   \n",
       "..   ...                    ...      ...     ...  ..     ...      ...   \n",
       "795  719                Diancie     Rock   Fairy  50     100      150   \n",
       "796  719    DiancieMega Diancie     Rock   Fairy  50     160      110   \n",
       "797  720    HoopaHoopa Confined  Psychic   Ghost  80     110       60   \n",
       "798  720     HoopaHoopa Unbound  Psychic    Dark  80     160       60   \n",
       "799  721              Volcanion     Fire   Water  80     110      120   \n",
       "\n",
       "     Sp. Atk  Sp. Def  Speed  Generation  Legendary  \n",
       "0         65       65     45           1      False  \n",
       "1         80       80     60           1      False  \n",
       "2        100      100     80           1      False  \n",
       "3        122      120     80           1      False  \n",
       "4         60       50     65           1      False  \n",
       "..       ...      ...    ...         ...        ...  \n",
       "795      100      150     50           6       True  \n",
       "796      160      110    110           6       True  \n",
       "797      150      130     70           6       True  \n",
       "798      170      130     80           6       True  \n",
       "799      130       90     70           6       True  \n",
       "\n",
       "[800 rows x 12 columns]"
      ]
     },
     "execution_count": 6,
     "metadata": {},
     "output_type": "execute_result"
    }
   ],
   "source": [
    "import pandas as pd\n",
    "\n",
    "url = \"https://raw.githubusercontent.com/KeithGalli/pandas/master/pokemon_data.csv\"\n",
    "# fail https://github.com/KeithGalli/pandas/blob/master/pokemon_data.csv\n",
    "pokeaman = pd.read_csv(url) \n",
    "pokeaman"
   ]
  },
  {
   "cell_type": "code",
   "execution_count": 7,
   "id": "bb4f4e81",
   "metadata": {},
   "outputs": [
    {
     "data": {
      "text/html": [
       "<table class=\"simpletable\">\n",
       "<caption>OLS Regression Results</caption>\n",
       "<tr>\n",
       "  <th>Dep. Variable:</th>           <td>HP</td>        <th>  R-squared:         </th> <td>   0.176</td>\n",
       "</tr>\n",
       "<tr>\n",
       "  <th>Model:</th>                   <td>OLS</td>       <th>  Adj. R-squared:    </th> <td>   0.164</td>\n",
       "</tr>\n",
       "<tr>\n",
       "  <th>Method:</th>             <td>Least Squares</td>  <th>  F-statistic:       </th> <td>   15.27</td>\n",
       "</tr>\n",
       "<tr>\n",
       "  <th>Date:</th>             <td>Thu, 14 Nov 2024</td> <th>  Prob (F-statistic):</th> <td>3.50e-27</td>\n",
       "</tr>\n",
       "<tr>\n",
       "  <th>Time:</th>                 <td>23:49:56</td>     <th>  Log-Likelihood:    </th> <td> -3649.4</td>\n",
       "</tr>\n",
       "<tr>\n",
       "  <th>No. Observations:</th>      <td>   800</td>      <th>  AIC:               </th> <td>   7323.</td>\n",
       "</tr>\n",
       "<tr>\n",
       "  <th>Df Residuals:</th>          <td>   788</td>      <th>  BIC:               </th> <td>   7379.</td>\n",
       "</tr>\n",
       "<tr>\n",
       "  <th>Df Model:</th>              <td>    11</td>      <th>                     </th>     <td> </td>   \n",
       "</tr>\n",
       "<tr>\n",
       "  <th>Covariance Type:</th>      <td>nonrobust</td>    <th>                     </th>     <td> </td>   \n",
       "</tr>\n",
       "</table>\n",
       "<table class=\"simpletable\">\n",
       "<tr>\n",
       "                 <td></td>                    <th>coef</th>     <th>std err</th>      <th>t</th>      <th>P>|t|</th>  <th>[0.025</th>    <th>0.975]</th>  \n",
       "</tr>\n",
       "<tr>\n",
       "  <th>Intercept</th>                       <td>   26.8971</td> <td>    5.246</td> <td>    5.127</td> <td> 0.000</td> <td>   16.599</td> <td>   37.195</td>\n",
       "</tr>\n",
       "<tr>\n",
       "  <th>C(Generation)[T.2]</th>              <td>   20.0449</td> <td>    7.821</td> <td>    2.563</td> <td> 0.011</td> <td>    4.692</td> <td>   35.398</td>\n",
       "</tr>\n",
       "<tr>\n",
       "  <th>C(Generation)[T.3]</th>              <td>   21.3662</td> <td>    6.998</td> <td>    3.053</td> <td> 0.002</td> <td>    7.629</td> <td>   35.103</td>\n",
       "</tr>\n",
       "<tr>\n",
       "  <th>C(Generation)[T.4]</th>              <td>   31.9575</td> <td>    8.235</td> <td>    3.881</td> <td> 0.000</td> <td>   15.793</td> <td>   48.122</td>\n",
       "</tr>\n",
       "<tr>\n",
       "  <th>C(Generation)[T.5]</th>              <td>    9.4926</td> <td>    7.883</td> <td>    1.204</td> <td> 0.229</td> <td>   -5.982</td> <td>   24.968</td>\n",
       "</tr>\n",
       "<tr>\n",
       "  <th>C(Generation)[T.6]</th>              <td>   22.2693</td> <td>    8.709</td> <td>    2.557</td> <td> 0.011</td> <td>    5.173</td> <td>   39.366</td>\n",
       "</tr>\n",
       "<tr>\n",
       "  <th>Q(\"Sp. Def\")</th>                    <td>    0.5634</td> <td>    0.071</td> <td>    7.906</td> <td> 0.000</td> <td>    0.423</td> <td>    0.703</td>\n",
       "</tr>\n",
       "<tr>\n",
       "  <th>Q(\"Sp. Def\"):C(Generation)[T.2]</th> <td>   -0.2350</td> <td>    0.101</td> <td>   -2.316</td> <td> 0.021</td> <td>   -0.434</td> <td>   -0.036</td>\n",
       "</tr>\n",
       "<tr>\n",
       "  <th>Q(\"Sp. Def\"):C(Generation)[T.3]</th> <td>   -0.3067</td> <td>    0.093</td> <td>   -3.300</td> <td> 0.001</td> <td>   -0.489</td> <td>   -0.124</td>\n",
       "</tr>\n",
       "<tr>\n",
       "  <th>Q(\"Sp. Def\"):C(Generation)[T.4]</th> <td>   -0.3790</td> <td>    0.105</td> <td>   -3.600</td> <td> 0.000</td> <td>   -0.586</td> <td>   -0.172</td>\n",
       "</tr>\n",
       "<tr>\n",
       "  <th>Q(\"Sp. Def\"):C(Generation)[T.5]</th> <td>   -0.0484</td> <td>    0.108</td> <td>   -0.447</td> <td> 0.655</td> <td>   -0.261</td> <td>    0.164</td>\n",
       "</tr>\n",
       "<tr>\n",
       "  <th>Q(\"Sp. Def\"):C(Generation)[T.6]</th> <td>   -0.3083</td> <td>    0.112</td> <td>   -2.756</td> <td> 0.006</td> <td>   -0.528</td> <td>   -0.089</td>\n",
       "</tr>\n",
       "</table>\n",
       "<table class=\"simpletable\">\n",
       "<tr>\n",
       "  <th>Omnibus:</th>       <td>337.229</td> <th>  Durbin-Watson:     </th> <td>   1.505</td>\n",
       "</tr>\n",
       "<tr>\n",
       "  <th>Prob(Omnibus):</th> <td> 0.000</td>  <th>  Jarque-Bera (JB):  </th> <td>2871.522</td>\n",
       "</tr>\n",
       "<tr>\n",
       "  <th>Skew:</th>          <td> 1.684</td>  <th>  Prob(JB):          </th> <td>    0.00</td>\n",
       "</tr>\n",
       "<tr>\n",
       "  <th>Kurtosis:</th>      <td>11.649</td>  <th>  Cond. No.          </th> <td>1.40e+03</td>\n",
       "</tr>\n",
       "</table><br/><br/>Notes:<br/>[1] Standard Errors assume that the covariance matrix of the errors is correctly specified.<br/>[2] The condition number is large, 1.4e+03. This might indicate that there are<br/>strong multicollinearity or other numerical problems."
      ],
      "text/latex": [
       "\\begin{center}\n",
       "\\begin{tabular}{lclc}\n",
       "\\toprule\n",
       "\\textbf{Dep. Variable:}                  &        HP        & \\textbf{  R-squared:         } &     0.176   \\\\\n",
       "\\textbf{Model:}                          &       OLS        & \\textbf{  Adj. R-squared:    } &     0.164   \\\\\n",
       "\\textbf{Method:}                         &  Least Squares   & \\textbf{  F-statistic:       } &     15.27   \\\\\n",
       "\\textbf{Date:}                           & Thu, 14 Nov 2024 & \\textbf{  Prob (F-statistic):} &  3.50e-27   \\\\\n",
       "\\textbf{Time:}                           &     23:49:56     & \\textbf{  Log-Likelihood:    } &   -3649.4   \\\\\n",
       "\\textbf{No. Observations:}               &         800      & \\textbf{  AIC:               } &     7323.   \\\\\n",
       "\\textbf{Df Residuals:}                   &         788      & \\textbf{  BIC:               } &     7379.   \\\\\n",
       "\\textbf{Df Model:}                       &          11      & \\textbf{                     } &             \\\\\n",
       "\\textbf{Covariance Type:}                &    nonrobust     & \\textbf{                     } &             \\\\\n",
       "\\bottomrule\n",
       "\\end{tabular}\n",
       "\\begin{tabular}{lcccccc}\n",
       "                                         & \\textbf{coef} & \\textbf{std err} & \\textbf{t} & \\textbf{P$> |$t$|$} & \\textbf{[0.025} & \\textbf{0.975]}  \\\\\n",
       "\\midrule\n",
       "\\textbf{Intercept}                       &      26.8971  &        5.246     &     5.127  &         0.000        &       16.599    &       37.195     \\\\\n",
       "\\textbf{C(Generation)[T.2]}              &      20.0449  &        7.821     &     2.563  &         0.011        &        4.692    &       35.398     \\\\\n",
       "\\textbf{C(Generation)[T.3]}              &      21.3662  &        6.998     &     3.053  &         0.002        &        7.629    &       35.103     \\\\\n",
       "\\textbf{C(Generation)[T.4]}              &      31.9575  &        8.235     &     3.881  &         0.000        &       15.793    &       48.122     \\\\\n",
       "\\textbf{C(Generation)[T.5]}              &       9.4926  &        7.883     &     1.204  &         0.229        &       -5.982    &       24.968     \\\\\n",
       "\\textbf{C(Generation)[T.6]}              &      22.2693  &        8.709     &     2.557  &         0.011        &        5.173    &       39.366     \\\\\n",
       "\\textbf{Q(\"Sp. Def\")}                    &       0.5634  &        0.071     &     7.906  &         0.000        &        0.423    &        0.703     \\\\\n",
       "\\textbf{Q(\"Sp. Def\"):C(Generation)[T.2]} &      -0.2350  &        0.101     &    -2.316  &         0.021        &       -0.434    &       -0.036     \\\\\n",
       "\\textbf{Q(\"Sp. Def\"):C(Generation)[T.3]} &      -0.3067  &        0.093     &    -3.300  &         0.001        &       -0.489    &       -0.124     \\\\\n",
       "\\textbf{Q(\"Sp. Def\"):C(Generation)[T.4]} &      -0.3790  &        0.105     &    -3.600  &         0.000        &       -0.586    &       -0.172     \\\\\n",
       "\\textbf{Q(\"Sp. Def\"):C(Generation)[T.5]} &      -0.0484  &        0.108     &    -0.447  &         0.655        &       -0.261    &        0.164     \\\\\n",
       "\\textbf{Q(\"Sp. Def\"):C(Generation)[T.6]} &      -0.3083  &        0.112     &    -2.756  &         0.006        &       -0.528    &       -0.089     \\\\\n",
       "\\bottomrule\n",
       "\\end{tabular}\n",
       "\\begin{tabular}{lclc}\n",
       "\\textbf{Omnibus:}       & 337.229 & \\textbf{  Durbin-Watson:     } &    1.505  \\\\\n",
       "\\textbf{Prob(Omnibus):} &   0.000 & \\textbf{  Jarque-Bera (JB):  } & 2871.522  \\\\\n",
       "\\textbf{Skew:}          &   1.684 & \\textbf{  Prob(JB):          } &     0.00  \\\\\n",
       "\\textbf{Kurtosis:}      &  11.649 & \\textbf{  Cond. No.          } & 1.40e+03  \\\\\n",
       "\\bottomrule\n",
       "\\end{tabular}\n",
       "%\\caption{OLS Regression Results}\n",
       "\\end{center}\n",
       "\n",
       "Notes: \\newline\n",
       " [1] Standard Errors assume that the covariance matrix of the errors is correctly specified. \\newline\n",
       " [2] The condition number is large, 1.4e+03. This might indicate that there are \\newline\n",
       " strong multicollinearity or other numerical problems."
      ],
      "text/plain": [
       "<class 'statsmodels.iolib.summary.Summary'>\n",
       "\"\"\"\n",
       "                            OLS Regression Results                            \n",
       "==============================================================================\n",
       "Dep. Variable:                     HP   R-squared:                       0.176\n",
       "Model:                            OLS   Adj. R-squared:                  0.164\n",
       "Method:                 Least Squares   F-statistic:                     15.27\n",
       "Date:                Thu, 14 Nov 2024   Prob (F-statistic):           3.50e-27\n",
       "Time:                        23:49:56   Log-Likelihood:                -3649.4\n",
       "No. Observations:                 800   AIC:                             7323.\n",
       "Df Residuals:                     788   BIC:                             7379.\n",
       "Df Model:                          11                                         \n",
       "Covariance Type:            nonrobust                                         \n",
       "===================================================================================================\n",
       "                                      coef    std err          t      P>|t|      [0.025      0.975]\n",
       "---------------------------------------------------------------------------------------------------\n",
       "Intercept                          26.8971      5.246      5.127      0.000      16.599      37.195\n",
       "C(Generation)[T.2]                 20.0449      7.821      2.563      0.011       4.692      35.398\n",
       "C(Generation)[T.3]                 21.3662      6.998      3.053      0.002       7.629      35.103\n",
       "C(Generation)[T.4]                 31.9575      8.235      3.881      0.000      15.793      48.122\n",
       "C(Generation)[T.5]                  9.4926      7.883      1.204      0.229      -5.982      24.968\n",
       "C(Generation)[T.6]                 22.2693      8.709      2.557      0.011       5.173      39.366\n",
       "Q(\"Sp. Def\")                        0.5634      0.071      7.906      0.000       0.423       0.703\n",
       "Q(\"Sp. Def\"):C(Generation)[T.2]    -0.2350      0.101     -2.316      0.021      -0.434      -0.036\n",
       "Q(\"Sp. Def\"):C(Generation)[T.3]    -0.3067      0.093     -3.300      0.001      -0.489      -0.124\n",
       "Q(\"Sp. Def\"):C(Generation)[T.4]    -0.3790      0.105     -3.600      0.000      -0.586      -0.172\n",
       "Q(\"Sp. Def\"):C(Generation)[T.5]    -0.0484      0.108     -0.447      0.655      -0.261       0.164\n",
       "Q(\"Sp. Def\"):C(Generation)[T.6]    -0.3083      0.112     -2.756      0.006      -0.528      -0.089\n",
       "==============================================================================\n",
       "Omnibus:                      337.229   Durbin-Watson:                   1.505\n",
       "Prob(Omnibus):                  0.000   Jarque-Bera (JB):             2871.522\n",
       "Skew:                           1.684   Prob(JB):                         0.00\n",
       "Kurtosis:                      11.649   Cond. No.                     1.40e+03\n",
       "==============================================================================\n",
       "\n",
       "Notes:\n",
       "[1] Standard Errors assume that the covariance matrix of the errors is correctly specified.\n",
       "[2] The condition number is large, 1.4e+03. This might indicate that there are\n",
       "strong multicollinearity or other numerical problems.\n",
       "\"\"\""
      ]
     },
     "execution_count": 7,
     "metadata": {},
     "output_type": "execute_result"
    }
   ],
   "source": [
    "import statsmodels.formula.api as smf\n",
    "\n",
    "model1_spec = smf.ols(formula='HP ~ Q(\"Sp. Def\") + C(Generation)', data=pokeaman)\n",
    "model2_spec = smf.ols(formula='HP ~ Q(\"Sp. Def\") + C(Generation) + Q(\"Sp. Def\"):C(Generation)', data=pokeaman)\n",
    "model2_spec = smf.ols(formula='HP ~ Q(\"Sp. Def\") * C(Generation)', data=pokeaman)\n",
    "\n",
    "model2_fit = model2_spec.fit()\n",
    "model2_fit.summary()"
   ]
  },
  {
   "cell_type": "markdown",
   "id": "29dc6523",
   "metadata": {},
   "source": [
    "**QUESTION 4)**\n",
    "\n",
    "4) \\(R^2\\) measures the proportion of variance in the outcome explained by the model. A low \\(R^2\\), such as 17.6%, indicates that the predictors collectively explain only a small portion of the variability in the data. This suggests that unmeasured factors or noise significantly influence the outcome. On the other hand, p-values test whether individual predictors have a statistically significant effect on the outcome. A small p-value (e.g., \\(p < 0.05\\)) provides strong evidence of an effect, while coefficients measure the magnitude of that effect. For example, a coefficient greater than 10 indicates a large change in the outcome for a one-unit change in the predictor. These two metrics can appear contradictory but address different aspects of model evaluation. A model can have a low \\(R^2\\) if the predictors leave much of the outcome unexplained, but individual predictors can still have significant effects, reflected in small p-values and large coefficients. The key difference is that \\(R^2\\) measures overall model performance, while p-values test the significance of individual predictors. For example, in the model `HP ~ Q(\"Sp. Def\") * C(Generation)`, a low \\(R^2\\) (e.g., 17.6%) suggests most variability in `HP` is due to other factors. However, significant p-values for predictors like `Sp. Def` or its interactions with `Generation` mean those predictors still have meaningful relationships with `HP`. Therefore, \\(R^2\\) and p-values are not contradictory. A low \\(R^2\\) reflects poor global fit, while significant p-values indicate that individual predictors are impactful."
   ]
  },
  {
   "cell_type": "markdown",
   "id": "c9ae50bf",
   "metadata": {},
   "source": [
    "**QUESTION 5)**\n",
    "\n",
    "First Code Block: Replaces missing values with \"None\", randomly splits the pokemon dataset into two halves, the training set and the testing set, and uses a seed to be reproducable \n",
    "\n",
    "Second Code Block: Fits a simple linear regression model using the training data (pokeaman_train) to predict the outcome variable HP based on the predictors of Attack and Defense. \n",
    "\n",
    "Third Code Block: evaluates the performance of the regression model from both in-sample, and out-of-sample contexts. \n",
    "\n",
    "Fourth Code Block: fits a complex linear regression model with multiple predictors and their interactions in order to explain the HP of pokemon in the training dataset. \n",
    "\n",
    "Fifth Code Block: Evaluates the performance of the complex regression model by comparing its in-sample R^2 and out-of-sample R^2 \n",
    "\n",
    "Overall Function: illustrates both in-sample vs out-of-sample model performance metrics (specifically R^2) in the context of linear regression. "
   ]
  },
  {
   "cell_type": "markdown",
   "id": "405f5200",
   "metadata": {},
   "source": [
    "**QUESTION 6)**\n",
    "\n",
    "The `model4_linear_form` creates new predictor variables by specifying main effects and interaction terms, which are represented as columns in the \"design matrix\" (`model4_spec.exog`). Each term in the formula, such as `Attack * Defense`, generates multiple columns: one for each main effect (`Attack` and `Defense`) and one for their interaction (`Attack:Defense`). The shape of this matrix (`model4_spec.exog.shape`) reflects the number of rows (observations) and columns (predictor variables and interactions). The outcome variable, `model4_spec.endog`, represents the dependent variable, `HP`, being predicted.\n",
    "\n",
    "The \"design matrix\" (`model4_spec.exog`) suffers from multicollinearity, as observed through high correlations between its columns (`np.corrcoef(model4_spec.exog)`), particularly due to the inclusion of interaction terms and redundant predictors. This multicollinearity inflates standard errors, making coefficient estimates unstable and overly sensitive to small changes in the data. As a result, the model fits noise in the training data rather than capturing true patterns, leading to overfitting. The poor \"out-of-sample\" generalization of predictions from `model4_fit` is evidenced by a sharp drop in \"out-of-sample\" \\(R^2\\), indicating that the overfit model fails to generalize to unseen data. Simplifying the model, reducing interaction terms, and centering/scaling predictors can mitigate multicollinearity and improve generalizability."
   ]
  },
  {
   "cell_type": "markdown",
   "id": "dff68d80",
   "metadata": {},
   "source": [
    "**QUESTION 7)**\n",
    "\n",
    "The process of developing `model7_fit` from `model3_fit` shows how models can be improved iteratively to find a balance between complexity and generalization. `model3_fit` was simple, using only `Attack` and `Defense` as predictors, which kept multicollinearity low and allowed it to generalize well to new data. However, `model4_fit` added too many predictors and interactions, making it overly complex and causing it to overfit the training data, as seen in the drop in \"out-of-sample\" \\(R^2\\).\n",
    "\n",
    "Fixing this, `model5_fit` was more focused. It added relevant predictors like `Speed`, `Sp. Def`, `Sp. Atk`, and some categorical variables, which made it more comprehensive without being overly complicated. Next, `model6_fit` refined the model further by keeping only the most significant predictors and adding indicators for specific types (`Normal`, `Water`) and generations (2, 5), which improved its generalization. \n",
    "\n",
    "Finally, `model7_fit` included interactions between the key predictors to capture more complex relationships. By centering and scaling the continuous variables, multicollinearity was reduced (condition number ~15.4), which helped stabilize the model. This final model leveraged the evidence in the data effectively while maintaining strong \"out-of-sample\" performance."
   ]
  },
  {
   "cell_type": "code",
   "execution_count": 14,
   "id": "fd2f54a2",
   "metadata": {},
   "outputs": [
    {
     "data": {
      "image/png": "[encoded data removed]",
      "text/plain": [
       "<Figure size 1200x600 with 1 Axes>"
      ]
     },
     "metadata": {},
     "output_type": "display_data"
    }
   ],
   "source": [
    "# QUESTION 8)\n",
    "\n",
    "import numpy as np\n",
    "import pandas as pd\n",
    "import statsmodels.formula.api as smf\n",
    "from sklearn.model_selection import train_test_split\n",
    "import matplotlib.pyplot as plt\n",
    "\n",
    "# Load the data\n",
    "url = \"https://raw.githubusercontent.com/KeithGalli/pandas/master/pokemon_data.csv\"\n",
    "pokeaman = pd.read_csv(url).fillna('None')\n",
    "\n",
    "# Define the model formula\n",
    "model_formula = 'HP ~ Attack + Speed + Q(\"Sp. Def\") + Q(\"Sp. Atk\") + I(Q(\"Type 1\")==\"Normal\") + I(Q(\"Type 1\")==\"Water\") + I(Generation==2) + I(Generation==5)'\n",
    "\n",
    "# Initialize lists to store R-squared values\n",
    "in_sample_r2 = []\n",
    "out_of_sample_r2 = []\n",
    "\n",
    "# Run multiple model fits without setting a seed\n",
    "for i in range(100):\n",
    "    # Split the data randomly\n",
    "    pokeaman_train, pokeaman_test = train_test_split(pokeaman, train_size=0.5)\n",
    "    \n",
    "    # Fit the model on training data\n",
    "    model_spec = smf.ols(formula=model_formula, data=pokeaman_train)\n",
    "    model_fit = model_spec.fit()\n",
    "    \n",
    "    # Calculate \"in sample\" R-squared\n",
    "    in_sample_r2.append(model_fit.rsquared)\n",
    "    \n",
    "    # Calculate \"out of sample\" R-squared\n",
    "    yhat_test = model_fit.predict(pokeaman_test)\n",
    "    y_test = pokeaman_test.HP\n",
    "    out_of_sample_r2.append(np.corrcoef(y_test, yhat_test)[0, 1]**2)\n",
    "\n",
    "# Visualize the \"in sample\" and \"out of sample\" R-squared distributions\n",
    "plt.figure(figsize=(12, 6))\n",
    "plt.hist(in_sample_r2, bins=15, alpha=0.5, label='In Sample R-squared', color='blue')\n",
    "plt.hist(out_of_sample_r2, bins=15, alpha=0.5, label='Out of Sample R-squared', color='orange')\n",
    "plt.xlabel(\"R-squared\")\n",
    "plt.ylabel(\"Frequency\")\n",
    "plt.legend()\n",
    "plt.title(\"Distribution of 'In Sample' and 'Out of Sample' R-squared values\")\n",
    "plt.show()\n"
   ]
  },
  {
   "cell_type": "markdown",
   "id": "3ccd9f5c",
   "metadata": {},
   "source": [
    "QUESTION 8) The histogram shows the distributions of \"in-sample\" and \"out-of-sample\" R^2 values across 100 random train-test splits, illustrating the model's consistency and generalizability. \"In-sample\" R^2 is generally higher, as expected, since the model is optimized for the training data, while \"out-of-sample\" R^2 is lower, reflecting the drop in performance on unseen data. The overlap between distributions shows that some splits lead to better generalization than others, depending on how representative the training and testing datasets are. This demonstration highlights the variability in performance due to data sampling and emphasizes the importance of repeated evaluations to assess a model's robustness and ability to generalize beyond the training data."
   ]
  },
  {
   "cell_type": "markdown",
   "id": "a5c6325e",
   "metadata": {},
   "source": [
    "QUESTION 9)\n",
    "\n",
    "The results highlight the trade-off between complexity and generalizability in `model7_fit` and `model6_fit`. While `model7_fit` shows slightly better \"out-of-sample\" \\(R^2\\) in the random split scenario (\\(R^2 = 0.351\\) vs. \\(R^2 = 0.296\\)), it struggles in more realistic sequential prediction setups. For example, when predicting future generations, `model7_fit` suffers a sharp drop in \\(R^2\\) (e.g., \\(R^2 = 0.112\\) for `gen1_predict_future`), indicating poor generalizability due to its complexity. In contrast, `model6_fit`, being simpler, maintains better generalization (e.g., \\(R^2 = 0.193\\) for `gen1_predict_future`) and is easier to interpret. These results suggest that while complex models like `model7_fit` may slightly outperform in idealized scenarios, simpler models like `model6_fit` are more reliable and interpretable in real-world applications, where robustness and consistency are key.\n"
   ]
  },
  {
   "cell_type": "markdown",
   "id": "3573e65d",
   "metadata": {},
   "source": [
    "SUMMARY OF CHATS:\n",
    "\n",
    "Here's a summary of our recent conversations:\n",
    "\n",
    "1. **Multiple Regression and Logistic Regression Models**:\n",
    "   - We discussed building models for a dataset based on the Canadian Social Connection Survey. Initially, we explored multiple linear regression, but then shifted to logistic regression to handle binary outcomes. We examined ways to specify linear forms using combinations of continuous, binary, and categorical predictors.\n",
    "\n",
    "2. **Design Matrix, Multicollinearity, and Generalization**:\n",
    "   - We explored how linear form specifications (e.g., `model4_linear_form`) create predictor variables in the design matrix and discussed how multicollinearity impacts model performance, particularly the \"out of sample\" generalizability. Using `np.corrcoef()` with model specifications helped demonstrate the effect of high multicollinearity in complex models.\n",
    "\n",
    "3. **Model Extensions (Model5, Model6, Model7)**:\n",
    "   - Starting with simpler models (e.g., `model5_linear_form`), we incrementally added relevant predictor interactions and transformations in `model6` and `model7`. Centering and scaling continuous predictors were applied to reduce multicollinearity and improve model conditioning.\n",
    "\n",
    "4. **Experimenting with \"In Sample\" and \"Out of Sample\" R-squared**:\n",
    "   - We ran a loop to repeatedly split the data without a set seed, capturing \"in sample\" and \"out of sample\" R-squared values to assess model performance across different samples. This illustrated the trade-off between model fit and generalizability.\n",
    "\n",
    "5. **Results Analysis of Various Models**:\n",
    "   - We reviewed R-squared values for models trained on different subsets (e.g., \"gen1_predict_future\" and \"gen1to5_predict_future\") and analyzed how training on diverse generations improves generalizability. We found that using Gen 1 alone led to overfitting, while including more generations in the training data balanced fit and prediction accuracy better.\n",
    "\n",
    "Let me know if you'd like further assistance or another review of any part!"
   ]
  },
  {
   "cell_type": "markdown",
   "id": "d6b3b150",
   "metadata": {},
   "source": [
    "LINK TO CHAT:\n",
    "\n",
    "https://chatgpt.com/share/6736cbb9-6d2c-800c-b146-87770e92fa23"
   ]
  }
 ],
 "metadata": {
  "kernelspec": {
   "display_name": "Python 3 (ipykernel)",
   "language": "python",
   "name": "python3"
  },
  "language_info": {
   "codemirror_mode": {
    "name": "ipython",
    "version": 3
   },
   "file_extension": ".py",
   "mimetype": "text/x-python",
   "name": "python",
   "nbconvert_exporter": "python",
   "pygments_lexer": "ipython3",
   "version": "3.11.6"
  }
 },
 "nbformat": 4,
 "nbformat_minor": 5
}
