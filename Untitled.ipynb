{
 "cells": [
  {
   "cell_type": "code",
   "execution_count": 1,
   "id": "19810d4c",
   "metadata": {},
   "outputs": [
    {
     "name": "stdout",
     "output_type": "stream",
     "text": [
      "oranges\n"
     ]
    }
   ],
   "source": [
    "print(\"oranges\")"
   ]
  },
  {
   "cell_type": "code",
   "execution_count": 4,
   "id": "ea6f0573",
   "metadata": {},
   "outputs": [
    {
     "data": {
      "text/plain": [
       "72"
      ]
     },
     "execution_count": 4,
     "metadata": {},
     "output_type": "execute_result"
    }
   ],
   "source": [
    "(9*8)"
   ]
  },
  {
   "cell_type": "markdown",
   "id": "92d5bcce",
   "metadata": {},
   "source": [
    "STA130 TUT1\n",
    "##STA130\n",
    "1. 1\n",
    "2. 2"
   ]
  },
  {
   "cell_type": "code",
   "execution_count": 7,
   "id": "b061241e",
   "metadata": {},
   "outputs": [
    {
     "name": "stdout",
     "output_type": "stream",
     "text": [
      "fixed acidity           0\n",
      "volatile acidity        0\n",
      "citric acid             0\n",
      "residual sugar          0\n",
      "chlorides               0\n",
      "free sulfur dioxide     0\n",
      "total sulfur dioxide    0\n",
      "density                 0\n",
      "pH                      0\n",
      "sulphates               0\n",
      "alcohol                 0\n",
      "quality                 0\n",
      "dtype: int64\n"
     ]
    }
   ],
   "source": [
    "import pandas as pd\n",
    "\n",
    "# Load Wine Quality dataset from the URL\n",
    "url = \"https://archive.ics.uci.edu/ml/machine-learning-databases/wine-quality/winequality-red.csv\"\n",
    "df = pd.read_csv(url, sep=';')\n",
    "\n",
    "# Get missing data counts for each column\n",
    "missing_data_counts = df.isnull().sum()\n",
    "\n",
    "# Display the missing data counts\n",
    "print(missing_data_counts)\n"
   ]
  },
  {
   "cell_type": "markdown",
   "id": "3c2b8b78",
   "metadata": {},
   "source": [
    "### Summary of Interaction:\n",
    "\n",
    "In this session, we focused on finding and analyzing a dataset that contains missing values, meeting specific criteria for an assignment. The steps involved were as follows:\n",
    "\n",
    "1. **Finding a Suitable Dataset**: \n",
    "   - You requested a dataset that was amusing or interesting, had missing values, and could be accessed directly via a URL in CSV format.\n",
    "   - After a couple of attempts, I provided the **Titanic dataset** (https://people.sc.fsu.edu/~jburkardt/data/csv/titanic.csv) which contains missing values for some attributes, such as age.\n",
    "\n",
    "2. **Loading the Dataset in Python**: \n",
    "   - You asked to load the dataset into Python using pandas and retrieve the missing data counts for each column. Although I was unable to execute the code due to environment restrictions, I provided the correct Python code for you to run in your environment.\n",
    "\n",
    "3. **Final Output**: \n",
    "   - The final working code is meant to load the Titanic dataset, check for missing values, and display the count of missing values for each column in the dataset.\n",
    "\n",
    "---\n",
    "\n",
    "### Final Working Version of the Code:\n",
    "\n",
    "```python\n",
    "import pandas as pd\n",
    "\n",
    "# Load Titanic dataset from the URL\n",
    "url = \"https://people.sc.fsu.edu/~jburkardt/data/csv/titanic.csv\"\n",
    "df = pd.read_csv(url)\n",
    "\n",
    "# Get missing data counts for each column\n",
    "missing_data_counts = df.isnull().sum()\n",
    "\n",
    "# Display the missing data counts\n",
    "print(missing_data_counts)\n",
    "```\n",
    "\n",
    "This code will load the dataset and count the number of missing values for each column. You can run it directly in a local or online Python environment."
   ]
  },
  {
   "cell_type": "code",
   "execution_count": 10,
   "id": "0ea53849",
   "metadata": {},
   "outputs": [
    {
     "name": "stdout",
     "output_type": "stream",
     "text": [
      "False\n"
     ]
    }
   ],
   "source": [
    "print(df.isnull().values.any())  # Returns True if any missing value exists"
   ]
  },
  {
   "cell_type": "code",
   "execution_count": null,
   "id": "a3240410",
   "metadata": {},
   "outputs": [],
   "source": []
  }
 ],
 "metadata": {
  "kernelspec": {
   "display_name": "Python 3 (ipykernel)",
   "language": "python",
   "name": "python3"
  },
  "language_info": {
   "codemirror_mode": {
    "name": "ipython",
    "version": 3
   },
   "file_extension": ".py",
   "mimetype": "text/x-python",
   "name": "python",
   "nbconvert_exporter": "python",
   "pygments_lexer": "ipython3",
   "version": "3.11.6"
  }
 },
 "nbformat": 4,
 "nbformat_minor": 5
}
