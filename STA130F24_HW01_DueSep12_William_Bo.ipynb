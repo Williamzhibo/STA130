{
 "cells": [
  {
   "cell_type": "markdown",
   "id": "ba3142fa",
   "metadata": {},
   "source": [
    "PRE-LECTURE HW BELOW"
   ]
  },
  {
   "cell_type": "code",
   "execution_count": 49,
   "id": "4ba6f47a",
   "metadata": {
    "scrolled": true
   },
   "outputs": [
    {
     "data": {
      "text/plain": [
       "row_n           0\n",
       "id              1\n",
       "name            0\n",
       "gender          0\n",
       "species         0\n",
       "birthday        0\n",
       "personality     0\n",
       "song           11\n",
       "phrase          0\n",
       "full_id         0\n",
       "url             0\n",
       "dtype: int64"
      ]
     },
     "execution_count": 49,
     "metadata": {},
     "output_type": "execute_result"
    }
   ],
   "source": [
    "import pandas as pd\n",
    "url = \"https://raw.githubusercontent.com/rfordatascience/tidytuesday/master/data/2020/2020-05-05/villagers.csv\"\n",
    "df = pd.read_csv(url)\n",
    "df.isna().sum()\n"
   ]
  },
  {
   "cell_type": "code",
   "execution_count": 50,
   "id": "4b3d23bd",
   "metadata": {},
   "outputs": [
    {
     "name": "stdout",
     "output_type": "stream",
     "text": [
      "The DataFrame has 391 rows and 11 columns.\n"
     ]
    }
   ],
   "source": [
    "# Assuming your DataFrame is named df\n",
    "rows, columns = df.shape\n",
    "\n",
    "print(f\"The DataFrame has {rows} rows and {columns} columns.\")\n"
   ]
  },
  {
   "cell_type": "markdown",
   "id": "6f011e35",
   "metadata": {},
   "source": [
    "Observations are similar to the singular 'objects' of data. In my dataset, an individual villager is an observation which has its own variables assigned to it(also called attributes)"
   ]
  },
  {
   "cell_type": "markdown",
   "id": "d0527904",
   "metadata": {},
   "source": [
    "Variables is the data which stores information about each observation(villager). (eg. name, gender, species, etc.)"
   ]
  },
  {
   "cell_type": "code",
   "execution_count": 53,
   "id": "4d697657",
   "metadata": {},
   "outputs": [
    {
     "data": {
      "text/html": [
       "<div>\n",
       "<style scoped>\n",
       "    .dataframe tbody tr th:only-of-type {\n",
       "        vertical-align: middle;\n",
       "    }\n",
       "\n",
       "    .dataframe tbody tr th {\n",
       "        vertical-align: top;\n",
       "    }\n",
       "\n",
       "    .dataframe thead th {\n",
       "        text-align: right;\n",
       "    }\n",
       "</style>\n",
       "<table border=\"1\" class=\"dataframe\">\n",
       "  <thead>\n",
       "    <tr style=\"text-align: right;\">\n",
       "      <th></th>\n",
       "      <th>row_n</th>\n",
       "    </tr>\n",
       "  </thead>\n",
       "  <tbody>\n",
       "    <tr>\n",
       "      <th>count</th>\n",
       "      <td>391.000000</td>\n",
       "    </tr>\n",
       "    <tr>\n",
       "      <th>mean</th>\n",
       "      <td>239.902813</td>\n",
       "    </tr>\n",
       "    <tr>\n",
       "      <th>std</th>\n",
       "      <td>140.702672</td>\n",
       "    </tr>\n",
       "    <tr>\n",
       "      <th>min</th>\n",
       "      <td>2.000000</td>\n",
       "    </tr>\n",
       "    <tr>\n",
       "      <th>25%</th>\n",
       "      <td>117.500000</td>\n",
       "    </tr>\n",
       "    <tr>\n",
       "      <th>50%</th>\n",
       "      <td>240.000000</td>\n",
       "    </tr>\n",
       "    <tr>\n",
       "      <th>75%</th>\n",
       "      <td>363.500000</td>\n",
       "    </tr>\n",
       "    <tr>\n",
       "      <th>max</th>\n",
       "      <td>483.000000</td>\n",
       "    </tr>\n",
       "  </tbody>\n",
       "</table>\n",
       "</div>"
      ],
      "text/plain": [
       "            row_n\n",
       "count  391.000000\n",
       "mean   239.902813\n",
       "std    140.702672\n",
       "min      2.000000\n",
       "25%    117.500000\n",
       "50%    240.000000\n",
       "75%    363.500000\n",
       "max    483.000000"
      ]
     },
     "execution_count": 53,
     "metadata": {},
     "output_type": "execute_result"
    }
   ],
   "source": [
    "df.describe()"
   ]
  },
  {
   "cell_type": "code",
   "execution_count": 54,
   "id": "ad8c9c4d",
   "metadata": {},
   "outputs": [
    {
     "data": {
      "text/plain": [
       "species\n",
       "cat          23\n",
       "rabbit       20\n",
       "frog         18\n",
       "squirrel     18\n",
       "duck         17\n",
       "dog          16\n",
       "cub          16\n",
       "pig          15\n",
       "bear         15\n",
       "mouse        15\n",
       "horse        15\n",
       "bird         13\n",
       "penguin      13\n",
       "sheep        13\n",
       "elephant     11\n",
       "wolf         11\n",
       "ostrich      10\n",
       "deer         10\n",
       "eagle         9\n",
       "gorilla       9\n",
       "chicken       9\n",
       "koala         9\n",
       "goat          8\n",
       "hamster       8\n",
       "kangaroo      8\n",
       "monkey        8\n",
       "anteater      7\n",
       "hippo         7\n",
       "tiger         7\n",
       "alligator     7\n",
       "lion          7\n",
       "bull          6\n",
       "rhino         6\n",
       "cow           4\n",
       "octopus       3\n",
       "Name: count, dtype: int64"
      ]
     },
     "execution_count": 54,
     "metadata": {},
     "output_type": "execute_result"
    }
   ],
   "source": [
    "df['species'].value_counts()"
   ]
  },
  {
   "cell_type": "code",
   "execution_count": 55,
   "id": "2442120a",
   "metadata": {},
   "outputs": [
    {
     "data": {
      "text/plain": [
       "<bound method NDFrame.head of      row_n        id      name  gender    species birthday personality  \\\n",
       "0        2   admiral   Admiral    male       bird     1-27      cranky   \n",
       "1        3   agent-s   Agent S  female   squirrel      7-2       peppy   \n",
       "2        4     agnes     Agnes  female        pig     4-21        uchi   \n",
       "3        6        al        Al    male    gorilla    10-18        lazy   \n",
       "4        7   alfonso   Alfonso    male  alligator      6-9        lazy   \n",
       "..     ...       ...       ...     ...        ...      ...         ...   \n",
       "386    475    winnie    Winnie  female      horse     1-31       peppy   \n",
       "387    477  wolfgang  Wolfgang    male       wolf    11-25      cranky   \n",
       "388    480      yuka      Yuka  female      koala     7-20      snooty   \n",
       "389    481      zell      Zell    male       deer      6-7        smug   \n",
       "390    483    zucker    Zucker    male    octopus      3-8        lazy   \n",
       "\n",
       "                song    phrase            full_id  \\\n",
       "0         Steep Hill   aye aye   villager-admiral   \n",
       "1            DJ K.K.  sidekick   villager-agent-s   \n",
       "2         K.K. House   snuffle     villager-agnes   \n",
       "3         Steep Hill   Ayyeeee        villager-al   \n",
       "4        Forest Life  it'sa me   villager-alfonso   \n",
       "..               ...       ...                ...   \n",
       "386         My Place    hay-OK    villager-winnie   \n",
       "387        K.K. Song   snarrrl  villager-wolfgang   \n",
       "388     Soulful K.K.   tsk tsk      villager-yuka   \n",
       "389         K.K. D&B     pronk      villager-zell   \n",
       "390  Spring Blossoms     bloop    villager-zucker   \n",
       "\n",
       "                                                   url  \n",
       "0    https://villagerdb.com/images/villagers/thumb/...  \n",
       "1    https://villagerdb.com/images/villagers/thumb/...  \n",
       "2    https://villagerdb.com/images/villagers/thumb/...  \n",
       "3    https://villagerdb.com/images/villagers/thumb/...  \n",
       "4    https://villagerdb.com/images/villagers/thumb/...  \n",
       "..                                                 ...  \n",
       "386  https://villagerdb.com/images/villagers/thumb/...  \n",
       "387  https://villagerdb.com/images/villagers/thumb/...  \n",
       "388  https://villagerdb.com/images/villagers/thumb/...  \n",
       "389  https://villagerdb.com/images/villagers/thumb/...  \n",
       "390  https://villagerdb.com/images/villagers/thumb/...  \n",
       "\n",
       "[391 rows x 11 columns]>"
      ]
     },
     "execution_count": 55,
     "metadata": {},
     "output_type": "execute_result"
    }
   ],
   "source": [
    "df.head"
   ]
  },
  {
   "cell_type": "code",
   "execution_count": 56,
   "id": "8fe16ea2",
   "metadata": {
    "scrolled": true
   },
   "outputs": [
    {
     "data": {
      "text/plain": [
       "(891, 15)"
      ]
     },
     "execution_count": 56,
     "metadata": {},
     "output_type": "execute_result"
    }
   ],
   "source": [
    "url = \"https://raw.githubusercontent.com/mwaskom/seaborn-data/master/titanic.csv\"\n",
    "\n",
    "titanic = pd.read_csv(url)\n",
    "\n",
    "titanic.shape"
   ]
  },
  {
   "cell_type": "code",
   "execution_count": 57,
   "id": "3a1b5aa9",
   "metadata": {},
   "outputs": [
    {
     "data": {
      "text/html": [
       "<div>\n",
       "<style scoped>\n",
       "    .dataframe tbody tr th:only-of-type {\n",
       "        vertical-align: middle;\n",
       "    }\n",
       "\n",
       "    .dataframe tbody tr th {\n",
       "        vertical-align: top;\n",
       "    }\n",
       "\n",
       "    .dataframe thead th {\n",
       "        text-align: right;\n",
       "    }\n",
       "</style>\n",
       "<table border=\"1\" class=\"dataframe\">\n",
       "  <thead>\n",
       "    <tr style=\"text-align: right;\">\n",
       "      <th></th>\n",
       "      <th>survived</th>\n",
       "      <th>pclass</th>\n",
       "      <th>age</th>\n",
       "      <th>sibsp</th>\n",
       "      <th>parch</th>\n",
       "      <th>fare</th>\n",
       "    </tr>\n",
       "  </thead>\n",
       "  <tbody>\n",
       "    <tr>\n",
       "      <th>count</th>\n",
       "      <td>891.000000</td>\n",
       "      <td>891.000000</td>\n",
       "      <td>714.000000</td>\n",
       "      <td>891.000000</td>\n",
       "      <td>891.000000</td>\n",
       "      <td>891.000000</td>\n",
       "    </tr>\n",
       "    <tr>\n",
       "      <th>mean</th>\n",
       "      <td>0.383838</td>\n",
       "      <td>2.308642</td>\n",
       "      <td>29.699118</td>\n",
       "      <td>0.523008</td>\n",
       "      <td>0.381594</td>\n",
       "      <td>32.204208</td>\n",
       "    </tr>\n",
       "    <tr>\n",
       "      <th>std</th>\n",
       "      <td>0.486592</td>\n",
       "      <td>0.836071</td>\n",
       "      <td>14.526497</td>\n",
       "      <td>1.102743</td>\n",
       "      <td>0.806057</td>\n",
       "      <td>49.693429</td>\n",
       "    </tr>\n",
       "    <tr>\n",
       "      <th>min</th>\n",
       "      <td>0.000000</td>\n",
       "      <td>1.000000</td>\n",
       "      <td>0.420000</td>\n",
       "      <td>0.000000</td>\n",
       "      <td>0.000000</td>\n",
       "      <td>0.000000</td>\n",
       "    </tr>\n",
       "    <tr>\n",
       "      <th>25%</th>\n",
       "      <td>0.000000</td>\n",
       "      <td>2.000000</td>\n",
       "      <td>20.125000</td>\n",
       "      <td>0.000000</td>\n",
       "      <td>0.000000</td>\n",
       "      <td>7.910400</td>\n",
       "    </tr>\n",
       "    <tr>\n",
       "      <th>50%</th>\n",
       "      <td>0.000000</td>\n",
       "      <td>3.000000</td>\n",
       "      <td>28.000000</td>\n",
       "      <td>0.000000</td>\n",
       "      <td>0.000000</td>\n",
       "      <td>14.454200</td>\n",
       "    </tr>\n",
       "    <tr>\n",
       "      <th>75%</th>\n",
       "      <td>1.000000</td>\n",
       "      <td>3.000000</td>\n",
       "      <td>38.000000</td>\n",
       "      <td>1.000000</td>\n",
       "      <td>0.000000</td>\n",
       "      <td>31.000000</td>\n",
       "    </tr>\n",
       "    <tr>\n",
       "      <th>max</th>\n",
       "      <td>1.000000</td>\n",
       "      <td>3.000000</td>\n",
       "      <td>80.000000</td>\n",
       "      <td>8.000000</td>\n",
       "      <td>6.000000</td>\n",
       "      <td>512.329200</td>\n",
       "    </tr>\n",
       "  </tbody>\n",
       "</table>\n",
       "</div>"
      ],
      "text/plain": [
       "         survived      pclass         age       sibsp       parch        fare\n",
       "count  891.000000  891.000000  714.000000  891.000000  891.000000  891.000000\n",
       "mean     0.383838    2.308642   29.699118    0.523008    0.381594   32.204208\n",
       "std      0.486592    0.836071   14.526497    1.102743    0.806057   49.693429\n",
       "min      0.000000    1.000000    0.420000    0.000000    0.000000    0.000000\n",
       "25%      0.000000    2.000000   20.125000    0.000000    0.000000    7.910400\n",
       "50%      0.000000    3.000000   28.000000    0.000000    0.000000   14.454200\n",
       "75%      1.000000    3.000000   38.000000    1.000000    0.000000   31.000000\n",
       "max      1.000000    3.000000   80.000000    8.000000    6.000000  512.329200"
      ]
     },
     "execution_count": 57,
     "metadata": {},
     "output_type": "execute_result"
    }
   ],
   "source": [
    "titanic.describe()"
   ]
  },
  {
   "cell_type": "markdown",
   "id": "b60961f5",
   "metadata": {},
   "source": [
    "The key difference between the .shape function and the .describe() function is likely due to missing values."
   ]
  },
  {
   "cell_type": "markdown",
   "id": "8950207d",
   "metadata": {},
   "source": [
    "the shape function includes rows with missing values, while the .describe() function only includes rows not containing missing values"
   ]
  },
  {
   "cell_type": "markdown",
   "id": "5e6424f2",
   "metadata": {},
   "source": [
    ".shape is an attribute, and thus it simply returns the (num rows, num columns)\n",
    "Note: shape doesnt peform a computation\n",
    ".describe() is a method, which performs a computation and returns a 'statistical summary of the DataFrame'\n",
    "Note: methods perform computations, and thus require execution/invokation\n",
    "even though both return data, methods use () syntax, and the .describe method simply takes no parameters. "
   ]
  },
  {
   "cell_type": "markdown",
   "id": "bfe5b203",
   "metadata": {},
   "source": [
    " Here's a summary of our chats:\n",
    "\n",
    " 1. **Dataset Overview:**\n",
    "    - You provided a dataset for Animal Crossing villagers and wanted to understand how many rows and columns it has using `.shape` and `.describe()`.\n",
    "\n",
    " 2. **Observations and Variables:**\n",
    "    - We discussed that observations are individual rows in your dataset, representing unique instances (villagers). Variables are columns in the dataset, representing different attributes (e.g., name, species, birthday).\n",
    "\n",
    " 3. **Using `.describe()` and `value_counts()`:**\n",
    "    - `.describe()` provides summary statistics for numeric columns and can be modified to include categorical columns by using `include='object'`.\n",
    "    - `df['column'].value_counts()` helps summarize categorical columns by counting the occurrences of each unique value.\n",
    "\n",
    " 4. **Discrepancy Between `.shape` and `.describe()`:**\n",
    "    - The discrepancy arises because `.shape` shows the total number of rows and columns, including those with missing values. In contrast, `.describe()` excludes rows with missing values in numeric columns and provides summaries based on non-null data.\n",
    "\n",
    " 5. **Attributes vs. Methods:**\n",
    "- We explained that attributes (like `df.shape`) represent data about the object and do not need parentheses, while methods (like `df.describe()`) perform actions and computations, hence require parentheses.\n",
    "\n",
    "If you have any more questions or need further clarification, feel free to ask!"
   ]
  },
  {
   "cell_type": "markdown",
   "id": "cb6afb34",
   "metadata": {},
   "source": [
    "LINK TO GPT CONVERSATION FOR PRE-LECTURE ASSIGNMENT \n",
    "\n",
    "https://chatgpt.com/share/303353cd-ae61-4dca-b97f-0b1917f5ea11\n"
   ]
  },
  {
   "cell_type": "code",
   "execution_count": null,
   "id": "b25ac7c6",
   "metadata": {},
   "outputs": [],
   "source": []
  },
  {
   "cell_type": "markdown",
   "id": "347285c6",
   "metadata": {},
   "source": [
    " POST-LECTURE HW BELOW"
   ]
  },
  {
   "cell_type": "markdown",
   "id": "c4938918",
   "metadata": {},
   "source": [
    "Count -- The number of non-missing values within a column, shows the COUNT of entries which exist for this variable\n",
    "Mean -- The mean value represents the average, calculated by summing all values, divided by the count of non-missing values  \n",
    "std -- The measure of the deviation from the mean value. Higher std means greater data variation from the mean\n",
    "min -- The min(imum) value within the column, gives the smallest recorded values\n",
    "25% -- The quartile represents the value in which 25% of the data exists, Q1 represents the 25th percentile of distribution\n",
    "50% -- The median, or Q2 represents the midpoint of the data, with 50% of the data above and 50% below this value\n",
    "75% -- The third quartile or Q3 representing the value where 75% of the data exists below. 75th percentile of data distribution\n",
    "max -- The largest value recorded within the column\n"
   ]
  },
  {
   "cell_type": "markdown",
   "id": "aac4f429",
   "metadata": {},
   "source": [
    "7.1) you might use .dropna for customer responses which do not completely respond to all questions, in which you dont want the incomplete responses"
   ]
  },
  {
   "cell_type": "markdown",
   "id": "54b891a6",
   "metadata": {},
   "source": [
    "7.2) you might no longer wish to hold a row (ie legistlation forces you to stop storing race in a job application database)"
   ]
  },
  {
   "cell_type": "markdown",
   "id": "98bd27ec",
   "metadata": {},
   "source": [
    "7.3) Using del df['col'] will help to remove any unrelated data before clearing the rows or columns that have missing values. doing del df['col'] first may prevent data from being erroneously removed"
   ]
  },
  {
   "cell_type": "markdown",
   "id": "2d39bc77",
   "metadata": {},
   "source": [
    "7.4) \n",
    "Check for missing data in each column"
   ]
  },
  {
   "cell_type": "code",
   "execution_count": 68,
   "id": "4b631c86",
   "metadata": {
    "scrolled": true
   },
   "outputs": [
    {
     "name": "stdout",
     "output_type": "stream",
     "text": [
      "row_n           0\n",
      "id              1\n",
      "name            0\n",
      "gender          0\n",
      "species         0\n",
      "birthday        0\n",
      "personality     0\n",
      "song           11\n",
      "phrase          0\n",
      "full_id         0\n",
      "url             0\n",
      "dtype: int64\n"
     ]
    }
   ],
   "source": [
    "missing_data = df.isnull().sum()\n",
    "print(missing_data)"
   ]
  },
  {
   "cell_type": "markdown",
   "id": "16a4e9e1",
   "metadata": {},
   "source": [
    "row_n           0\n",
    "id              1\n",
    "name            0\n",
    "gender          0\n",
    "species         0\n",
    "birthday        0\n",
    "personality     0\n",
    "song           11\n",
    "phrase          0\n",
    "full_id         0\n",
    "url             0"
   ]
  },
  {
   "cell_type": "markdown",
   "id": "dc135f68",
   "metadata": {},
   "source": [
    "we will remove the song column which has significant amounts of missing data"
   ]
  },
  {
   "cell_type": "code",
   "execution_count": 69,
   "id": "8bd63e42",
   "metadata": {},
   "outputs": [
    {
     "name": "stdout",
     "output_type": "stream",
     "text": [
      "(391, 11)\n",
      "row_n           0\n",
      "id              1\n",
      "name            0\n",
      "gender          0\n",
      "species         0\n",
      "birthday        0\n",
      "personality     0\n",
      "song           11\n",
      "phrase          0\n",
      "full_id         0\n",
      "url             0\n",
      "dtype: int64\n",
      "(390, 10)\n",
      "row_n          0\n",
      "id             0\n",
      "name           0\n",
      "gender         0\n",
      "species        0\n",
      "birthday       0\n",
      "personality    0\n",
      "phrase         0\n",
      "full_id        0\n",
      "url            0\n",
      "dtype: int64\n"
     ]
    }
   ],
   "source": [
    "# Before cleaning\n",
    "print(df.shape)\n",
    "# Output:(391, 11)\n",
    "\n",
    "print(df.isnull().sum())\n",
    "\n",
    "# Delete the 'song' column\n",
    "del df['song']\n",
    "\n",
    "# We will remove all other empty rows after deleting irrelevant column. \n",
    "# This ensures all empty data is removed \n",
    "\n",
    "# Remove rows with any remaining missing data\n",
    "df_cleaned = df.dropna()\n",
    "\n",
    "# After cleaning\n",
    "print(df_cleaned.shape)\n",
    "print(df_cleaned.isnull().sum())"
   ]
  },
  {
   "cell_type": "markdown",
   "id": "2b98578d",
   "metadata": {},
   "source": [
    "(390, 10)\n",
    "row_n          0\n",
    "id             0\n",
    "name           0\n",
    "gender         0\n",
    "species        0\n",
    "birthday       0\n",
    "personality    0\n",
    "phrase         0\n",
    "full_id        0\n",
    "url            0"
   ]
  },
  {
   "cell_type": "markdown",
   "id": "3c7b48c4",
   "metadata": {},
   "source": [
    "Here’s a summary of our chats so far:\n",
    "\n",
    "1. **Dataset Overview and Missing Data Handling:**\n",
    "   - You provided a dataset for Animal Crossing villagers and wanted to explore handling missing data. We discussed how to view the size of the DataFrame using `.shape` and how to summarize columns with `.describe()` and `df['column'].value_counts()`.\n",
    "\n",
    "2. **Observations and Variables:**\n",
    "   - We clarified that **observations** are individual rows (each representing a villager), and **variables** are the columns that describe attributes of each villager (e.g., name, species, gender).\n",
    "\n",
    "3. **Discrepancies Between `.shape` and `.describe()`:**\n",
    "   - We discussed why the total number of rows in `.shape` might differ from the count shown in `.describe()`. Missing values in specific columns can cause `.describe()` to exclude some rows, leading to a discrepancy.\n",
    "\n",
    "4. **Attributes vs. Methods:**\n",
    "   - I explained why attributes (like `df.shape`) don’t use parentheses, while methods (like `df.describe()`) do. Attributes store data, whereas methods perform actions or calculations.\n",
    "\n",
    "5. **Handling Missing Data:**\n",
    "   - We explored how to handle missing data using `df.dropna()` to remove rows or columns with missing values, and `del df['col']` to delete specific columns.\n",
    "   - We discussed how to clean a dataset by deleting irrelevant columns with missing data and using `dropna()` to remove rows with missing values.\n",
    "   - You were encouraged to report a \"before and after\" of the dataset cleaning process, showing the impact of your changes.\n",
    "\n",
    "Let me know if you have any further questions or need clarification on any points!"
   ]
  },
  {
   "cell_type": "markdown",
   "id": "526f0bbc",
   "metadata": {},
   "source": [
    "LINK TO GPT CONVERSATION FOR POST-LECTURE ASSIGNMENT \n",
    "\n",
    "https://chatgpt.com/share/303353cd-ae61-4dca-b97f-0b1917f5ea11"
   ]
  },
  {
   "cell_type": "code",
   "execution_count": null,
   "id": "32f94b0c",
   "metadata": {},
   "outputs": [],
   "source": []
  },
  {
   "cell_type": "code",
   "execution_count": 70,
   "id": "bd5772bd",
   "metadata": {},
   "outputs": [
    {
     "name": "stdout",
     "output_type": "stream",
     "text": [
      "   survived  pclass     sex   age  sibsp  parch     fare embarked  class  \\\n",
      "0         0       3    male  22.0      1      0   7.2500        S  Third   \n",
      "1         1       1  female  38.0      1      0  71.2833        C  First   \n",
      "2         1       3  female  26.0      0      0   7.9250        S  Third   \n",
      "3         1       1  female  35.0      1      0  53.1000        S  First   \n",
      "4         0       3    male  35.0      0      0   8.0500        S  Third   \n",
      "\n",
      "     who  adult_male deck  embark_town alive  alone  \n",
      "0    man        True  NaN  Southampton    no  False  \n",
      "1  woman       False    C    Cherbourg   yes  False  \n",
      "2  woman       False  NaN  Southampton   yes   True  \n",
      "3  woman       False    C  Southampton   yes  False  \n",
      "4    man        True  NaN  Southampton    no   True  \n"
     ]
    }
   ],
   "source": [
    "import pandas as pd\n",
    "\n",
    "url = 'https://raw.githubusercontent.com/mwaskom/seaborn-data/master/titanic.csv'\n",
    "titanic_df = pd.read_csv(url)\n",
    "print(titanic_df.head())\n"
   ]
  },
  {
   "cell_type": "code",
   "execution_count": 88,
   "id": "a7d1bfb6",
   "metadata": {},
   "outputs": [
    {
     "ename": "KeyError",
     "evalue": "'Column not found: Fare'",
     "output_type": "error",
     "traceback": [
      "\u001b[0;31m---------------------------------------------------------------------------\u001b[0m",
      "\u001b[0;31mKeyError\u001b[0m                                  Traceback (most recent call last)",
      "Cell \u001b[0;32mIn[88], line 1\u001b[0m\n\u001b[0;32m----> 1\u001b[0m \u001b[43mtitanic_df\u001b[49m\u001b[38;5;241;43m.\u001b[39;49m\u001b[43mgroupby\u001b[49m\u001b[43m(\u001b[49m\u001b[38;5;124;43m\"\u001b[39;49m\u001b[38;5;124;43msurvived\u001b[39;49m\u001b[38;5;124;43m\"\u001b[39;49m\u001b[43m)\u001b[49m\u001b[43m[\u001b[49m\u001b[38;5;124;43m\"\u001b[39;49m\u001b[38;5;124;43mFare\u001b[39;49m\u001b[38;5;124;43m\"\u001b[39;49m\u001b[43m]\u001b[49m\u001b[38;5;241m.\u001b[39mdescribe()\n",
      "File \u001b[0;32m/opt/conda/lib/python3.11/site-packages/pandas/core/groupby/generic.py:1964\u001b[0m, in \u001b[0;36mDataFrameGroupBy.__getitem__\u001b[0;34m(self, key)\u001b[0m\n\u001b[1;32m   1957\u001b[0m \u001b[38;5;28;01mif\u001b[39;00m \u001b[38;5;28misinstance\u001b[39m(key, \u001b[38;5;28mtuple\u001b[39m) \u001b[38;5;129;01mand\u001b[39;00m \u001b[38;5;28mlen\u001b[39m(key) \u001b[38;5;241m>\u001b[39m \u001b[38;5;241m1\u001b[39m:\n\u001b[1;32m   1958\u001b[0m     \u001b[38;5;66;03m# if len == 1, then it becomes a SeriesGroupBy and this is actually\u001b[39;00m\n\u001b[1;32m   1959\u001b[0m     \u001b[38;5;66;03m# valid syntax, so don't raise\u001b[39;00m\n\u001b[1;32m   1960\u001b[0m     \u001b[38;5;28;01mraise\u001b[39;00m \u001b[38;5;167;01mValueError\u001b[39;00m(\n\u001b[1;32m   1961\u001b[0m         \u001b[38;5;124m\"\u001b[39m\u001b[38;5;124mCannot subset columns with a tuple with more than one element. \u001b[39m\u001b[38;5;124m\"\u001b[39m\n\u001b[1;32m   1962\u001b[0m         \u001b[38;5;124m\"\u001b[39m\u001b[38;5;124mUse a list instead.\u001b[39m\u001b[38;5;124m\"\u001b[39m\n\u001b[1;32m   1963\u001b[0m     )\n\u001b[0;32m-> 1964\u001b[0m \u001b[38;5;28;01mreturn\u001b[39;00m \u001b[38;5;28;43msuper\u001b[39;49m\u001b[43m(\u001b[49m\u001b[43m)\u001b[49m\u001b[38;5;241;43m.\u001b[39;49m\u001b[38;5;21;43m__getitem__\u001b[39;49m\u001b[43m(\u001b[49m\u001b[43mkey\u001b[49m\u001b[43m)\u001b[49m\n",
      "File \u001b[0;32m/opt/conda/lib/python3.11/site-packages/pandas/core/base.py:244\u001b[0m, in \u001b[0;36mSelectionMixin.__getitem__\u001b[0;34m(self, key)\u001b[0m\n\u001b[1;32m    242\u001b[0m \u001b[38;5;28;01melse\u001b[39;00m:\n\u001b[1;32m    243\u001b[0m     \u001b[38;5;28;01mif\u001b[39;00m key \u001b[38;5;129;01mnot\u001b[39;00m \u001b[38;5;129;01min\u001b[39;00m \u001b[38;5;28mself\u001b[39m\u001b[38;5;241m.\u001b[39mobj:\n\u001b[0;32m--> 244\u001b[0m         \u001b[38;5;28;01mraise\u001b[39;00m \u001b[38;5;167;01mKeyError\u001b[39;00m(\u001b[38;5;124mf\u001b[39m\u001b[38;5;124m\"\u001b[39m\u001b[38;5;124mColumn not found: \u001b[39m\u001b[38;5;132;01m{\u001b[39;00mkey\u001b[38;5;132;01m}\u001b[39;00m\u001b[38;5;124m\"\u001b[39m)\n\u001b[1;32m    245\u001b[0m     ndim \u001b[38;5;241m=\u001b[39m \u001b[38;5;28mself\u001b[39m\u001b[38;5;241m.\u001b[39mobj[key]\u001b[38;5;241m.\u001b[39mndim\n\u001b[1;32m    246\u001b[0m     \u001b[38;5;28;01mreturn\u001b[39;00m \u001b[38;5;28mself\u001b[39m\u001b[38;5;241m.\u001b[39m_gotitem(key, ndim\u001b[38;5;241m=\u001b[39mndim)\n",
      "\u001b[0;31mKeyError\u001b[0m: 'Column not found: Fare'"
     ]
    }
   ],
   "source": [
    "titanic_df.groupby(\"survived\")[\"Fare\"].describe()\n"
   ]
  },
  {
   "cell_type": "markdown",
   "id": "0d8e4079",
   "metadata": {},
   "source": [
    "8.1) When grouping by survived, I am looking at the unique values in the column, and considering the rows with the same values into a single group. \n",
    "8.1) After grouping by my survived column, im looking at the \"fare\" column from my grouped data \n",
    "Here I am grouping survivors, and non-survivors and then grouping them based on fare costs and describing the dataset."
   ]
  },
  {
   "cell_type": "markdown",
   "id": "a4aed537",
   "metadata": {},
   "source": [
    "8.2) When i call .describe, I am getting a summary for each column within my DataFrame, count represents the number of existing values within each column, where if a value is missing in my column, th ecount is less than the total number of rows \n",
    "When i use groupby(\"col1\")[\"col2\"].describe(), im getting the count of the existing values within each group defined in \"col1\". \n",
    "this is different because when I calculate my count, it is separately calculated for each group "
   ]
  },
  {
   "cell_type": "markdown",
   "id": "77d5f008",
   "metadata": {},
   "source": [
    "8.3) \n",
    "a) ChatGPT provides a faster solution to the error -- although very close, ChatGPT immediately gave the code, whereas a stack overflow thread described an unrelated issue \n",
    "b) ChatGPT provides a faster solution as it gave multiple ways to troubleshoot the issue, and the code which was relevant. \n",
    "c) ChatGPT provided a faster solution -- naive troubleshooting of copypasting resulted in google not giving a relevant result\n",
    "d) ChatGPT provided a faster solution, even fixing the incorrect code for me\n",
    "e) ChatGPT troubleshooted faster, fixing the code and explaining my error\n",
    "f) ChatGPT highlighted a case sensitivity error immediately and fixed it faster\n",
    "g) ChatGpt was able to quickly solve this issue writing the correct syntax\n"
   ]
  },
  {
   "cell_type": "markdown",
   "id": "4f9497d3",
   "metadata": {},
   "source": [
    "9) somewhat "
   ]
  },
  {
   "cell_type": "markdown",
   "id": "e02597e3",
   "metadata": {},
   "source": [
    "Sure! Here’s a summary of our discussions:\n",
    "\n",
    "1. **Titanic Dataset Analysis**:\n",
    "   - You’ve been working with the Titanic dataset and trying to perform various analyses.\n",
    "   - Issues encountered included:\n",
    "     - Using incorrect column names or case sensitivity (e.g., `'Survived'` vs. `'survived'`, `'Fare'` vs. `'fare'`).\n",
    "     - Syntax errors and missing imports, which were resolved by ensuring correct column names and using proper syntax.\n",
    "\n",
    "2. **Handling Errors**:\n",
    "   - **NameError**: Occurred when trying to use a variable or column name that was not defined or not recognized. Solution involved checking and using the exact column names.\n",
    "   - **FileNotFoundError**: Addressed by providing the correct file path or using a URL to load data.\n",
    "   - **KeyError**: Fixed by verifying and using the exact column names present in the DataFrame.\n",
    "   - **AttributeError**: Fixed by using the correct method (`.describe()` instead of `.describle()`).\n",
    "\n",
    "3. **Code Corrections**:\n",
    "   - Ensured correct syntax for pandas operations like `groupby`, selecting columns, and using `.describe()`.\n",
    "   - Addressed issues related to case sensitivity and proper use of string literals for column names.\n",
    "\n",
    "If you have any more questions or need further clarification, feel free to ask!"
   ]
  },
  {
   "cell_type": "markdown",
   "id": "32638378",
   "metadata": {},
   "source": [
    "https://chatgpt.com/share/eb8febf0-92eb-4c32-8adb-e0d29d46b88d"
   ]
  }
 ],
 "metadata": {
  "kernelspec": {
   "display_name": "Python 3 (ipykernel)",
   "language": "python",
   "name": "python3"
  },
  "language_info": {
   "codemirror_mode": {
    "name": "ipython",
    "version": 3
   },
   "file_extension": ".py",
   "mimetype": "text/x-python",
   "name": "python",
   "nbconvert_exporter": "python",
   "pygments_lexer": "ipython3",
   "version": "3.11.6"
  }
 },
 "nbformat": 4,
 "nbformat_minor": 5
}
